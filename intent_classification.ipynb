{
  "nbformat": 4,
  "nbformat_minor": 0,
  "metadata": {
    "colab": {
      "name": "intent_classification.ipynb",
      "provenance": [],
      "collapsed_sections": []
    },
    "kernelspec": {
      "name": "python3",
      "display_name": "Python 3"
    },
    "language_info": {
      "name": "python"
    }
  },
  "cells": [
    {
      "cell_type": "markdown",
      "source": [
        "# Intent Classification"
      ],
      "metadata": {
        "id": "v6W1t9QpGs80"
      }
    },
    {
      "cell_type": "code",
      "source": [
        "import numpy as np\n",
        "from sklearn.svm import LinearSVC\n",
        "from sklearn.feature_extraction.text import CountVectorizer\n",
        "import tensorflow as tf\n",
        "from tensorflow.keras.preprocessing.text import Tokenizer\n",
        "from tensorflow.keras.preprocessing.sequence import pad_sequences"
      ],
      "metadata": {
        "id": "Z25LdSD-_YH1"
      },
      "execution_count": 68,
      "outputs": []
    },
    {
      "cell_type": "code",
      "source": [
        "json = {\"intents\": [\n",
        "    {\"tag\": \"greeting\",\n",
        "     \"patterns\": [\"Hi\", \"Hey\", \"Is anyone there?\", \"Hello\", \"Hay\"],\n",
        "     \"responses\": [\"Hello\", \"Hi\", \"Hi there\"]\n",
        "    },\n",
        "    {\"tag\": \"goodbye\",\n",
        "     \"patterns\": [\"Bye\", \"See you later\", \"Goodbye\"],\n",
        "     \"responses\": [\"See you later\", \"Have a nice day\", \"Bye! Come back again\"]\n",
        "    },\n",
        "    {\"tag\": \"thanks\",\n",
        "     \"patterns\": [\"Thanks\", \"Thank you\", \"That's helpful\", \"Thanks for the help\"],\n",
        "     \"responses\": [\"Happy to help!\", \"Any time!\", \"My pleasure\", \"You're most welcome!\"]\n",
        "    },\n",
        "    {\"tag\": \"about\",\n",
        "     \"patterns\": [\"Who are you?\", \"What are you?\", \"Who you are?\" ],\n",
        "     \"responses\": [\"I.m Joana, your bot assistant\", \"I'm Joana, an Artificial Intelligent bot\"]\n",
        "    },\n",
        "    {\"tag\": \"name\",\n",
        "    \"patterns\": [\"what is your name\", \"what should I call you\", \"whats your name?\"],\n",
        "    \"responses\": [\"You can call me Joana.\", \"I'm Joana!\", \"Just call me as Joana\"]\n",
        "    },\n",
        "    {\"tag\": \"help\",\n",
        "    \"patterns\": [\"Could you help me?\", \"give me a hand please\", \"Can you help?\", \"What can you do for me?\", \"I need a support\", \"I need a help\", \"support me please\"],\n",
        "    \"responses\": [\"Tell me how can assist you\", \"Tell me your problem to assist you\", \"Yes Sure, How can I support you\"]\n",
        "    },\n",
        "    {\"tag\": \"createaccount\",\n",
        "    \"patterns\": [\"I need to create a new account\", \"how to open a new account\", \"I want to create an account\", \"can you create an account for me\", \"how to open a new account\"],\n",
        "    \"responses\": [\"You can just easily create a new account from our web site\", \"Just go to our web site and follow the guidelines to create a new account\"]\n",
        "    },\n",
        "    {\"tag\": \"complaint\",\n",
        "    \"patterns\": [\"have a complaint\", \"I want to raise a complaint\", \"there is a complaint about a service\"],\n",
        "    \"responses\": [\"Please provide us your complaint in order to assist you\", \"Please mention your complaint, we will reach you and sorry for any inconvenience caused\"]\n",
        "    }\n",
        "]\n",
        "}"
      ],
      "metadata": {
        "id": "LRJS9xDOzXUh"
      },
      "execution_count": 26,
      "outputs": []
    },
    {
      "cell_type": "code",
      "source": [
        "patterns = []"
      ],
      "metadata": {
        "id": "XqNq65Vxzfc_"
      },
      "execution_count": 27,
      "outputs": []
    },
    {
      "cell_type": "code",
      "source": [
        "for intent in json[\"intents\"]:\n",
        "  for pattern in intent[\"patterns\"]:\n",
        "    if pattern not in patterns:\n",
        "      patterns.append(pattern)"
      ],
      "metadata": {
        "id": "QIxGlrhB0ban"
      },
      "execution_count": 28,
      "outputs": []
    },
    {
      "cell_type": "code",
      "source": [
        "patterns[:5]"
      ],
      "metadata": {
        "colab": {
          "base_uri": "https://localhost:8080/"
        },
        "id": "6TFRd97P0tK4",
        "outputId": "c2e54ad4-c036-4cd4-cc11-36a83b055caa"
      },
      "execution_count": 29,
      "outputs": [
        {
          "output_type": "execute_result",
          "data": {
            "text/plain": [
              "['Hi', 'Hey', 'Is anyone there?', 'Hello', 'Hay']"
            ]
          },
          "metadata": {},
          "execution_count": 29
        }
      ]
    },
    {
      "cell_type": "code",
      "source": [
        "dict_ = {}"
      ],
      "metadata": {
        "id": "1vAOBUSt59-L"
      },
      "execution_count": 30,
      "outputs": []
    },
    {
      "cell_type": "code",
      "source": [
        "for pattern in patterns:\n",
        "  for intent in json[\"intents\"]:\n",
        "    if pattern in intent[\"patterns\"]:\n",
        "      dict_[pattern] = intent[\"tag\"]"
      ],
      "metadata": {
        "id": "0482xiWI1bv-"
      },
      "execution_count": 31,
      "outputs": []
    },
    {
      "cell_type": "code",
      "source": [
        "for k, v in dict_.items():\n",
        "  print(k, \":\", v)"
      ],
      "metadata": {
        "colab": {
          "base_uri": "https://localhost:8080/"
        },
        "id": "kBpQB6e16pzb",
        "outputId": "943d7b8f-e082-42fa-bc7f-aa3c0e2a669f"
      },
      "execution_count": 32,
      "outputs": [
        {
          "output_type": "stream",
          "name": "stdout",
          "text": [
            "Hi : greeting\n",
            "Hey : greeting\n",
            "Is anyone there? : greeting\n",
            "Hello : greeting\n",
            "Hay : greeting\n",
            "Bye : goodbye\n",
            "See you later : goodbye\n",
            "Goodbye : goodbye\n",
            "Thanks : thanks\n",
            "Thank you : thanks\n",
            "That's helpful : thanks\n",
            "Thanks for the help : thanks\n",
            "Who are you? : about\n",
            "What are you? : about\n",
            "Who you are? : about\n",
            "what is your name : name\n",
            "what should I call you : name\n",
            "whats your name? : name\n",
            "Could you help me? : help\n",
            "give me a hand please : help\n",
            "Can you help? : help\n",
            "What can you do for me? : help\n",
            "I need a support : help\n",
            "I need a help : help\n",
            "support me please : help\n",
            "I need to create a new account : createaccount\n",
            "how to open a new account : createaccount\n",
            "I want to create an account : createaccount\n",
            "can you create an account for me : createaccount\n",
            "have a complaint : complaint\n",
            "I want to raise a complaint : complaint\n",
            "there is a complaint about a service : complaint\n"
          ]
        }
      ]
    },
    {
      "cell_type": "code",
      "source": [
        "dict2={}"
      ],
      "metadata": {
        "id": "thgbg7kO-GKS"
      },
      "execution_count": 33,
      "outputs": []
    },
    {
      "cell_type": "code",
      "source": [
        "for intent in json[\"intents\"]:\n",
        "  dict2[intent[\"tag\"]] = intent[\"responses\"]"
      ],
      "metadata": {
        "id": "A-B0ht-s6tSS"
      },
      "execution_count": 34,
      "outputs": []
    },
    {
      "cell_type": "code",
      "source": [
        "dict2"
      ],
      "metadata": {
        "colab": {
          "base_uri": "https://localhost:8080/"
        },
        "id": "jnwFdOcF-t7R",
        "outputId": "1acd6a0a-7fc3-4b9b-8239-3105b49915a2"
      },
      "execution_count": 40,
      "outputs": [
        {
          "output_type": "execute_result",
          "data": {
            "text/plain": [
              "{'about': ['I.m Joana, your bot assistant',\n",
              "  \"I'm Joana, an Artificial Intelligent bot\"],\n",
              " 'complaint': ['Please provide us your complaint in order to assist you',\n",
              "  'Please mention your complaint, we will reach you and sorry for any inconvenience caused'],\n",
              " 'createaccount': ['You can just easily create a new account from our web site',\n",
              "  'Just go to our web site and follow the guidelines to create a new account'],\n",
              " 'goodbye': ['See you later', 'Have a nice day', 'Bye! Come back again'],\n",
              " 'greeting': ['Hello', 'Hi', 'Hi there'],\n",
              " 'help': ['Tell me how can assist you',\n",
              "  'Tell me your problem to assist you',\n",
              "  'Yes Sure, How can I support you'],\n",
              " 'name': ['You can call me Joana.', \"I'm Joana!\", 'Just call me as Joana'],\n",
              " 'thanks': ['Happy to help!',\n",
              "  'Any time!',\n",
              "  'My pleasure',\n",
              "  \"You're most welcome!\"]}"
            ]
          },
          "metadata": {},
          "execution_count": 40
        }
      ]
    },
    {
      "cell_type": "code",
      "source": [
        "#Unique classes\n",
        "classes = [*dict2.keys()]\n",
        "classes"
      ],
      "metadata": {
        "colab": {
          "base_uri": "https://localhost:8080/"
        },
        "id": "WdDEccra_KJY",
        "outputId": "4b856d19-d3a2-43e9-d9a5-7e14289d5f39"
      },
      "execution_count": 41,
      "outputs": [
        {
          "output_type": "execute_result",
          "data": {
            "text/plain": [
              "['greeting',\n",
              " 'goodbye',\n",
              " 'thanks',\n",
              " 'about',\n",
              " 'name',\n",
              " 'help',\n",
              " 'createaccount',\n",
              " 'complaint']"
            ]
          },
          "metadata": {},
          "execution_count": 41
        }
      ]
    },
    {
      "cell_type": "code",
      "source": [
        "for k, v in dict2.items():\n",
        "  print(k, \":\", v)"
      ],
      "metadata": {
        "colab": {
          "base_uri": "https://localhost:8080/"
        },
        "id": "Y_uQfeOM_P6p",
        "outputId": "0ad90fe4-c1aa-4c14-c960-4945f229c68e"
      },
      "execution_count": 42,
      "outputs": [
        {
          "output_type": "stream",
          "name": "stdout",
          "text": [
            "greeting : ['Hello', 'Hi', 'Hi there']\n",
            "goodbye : ['See you later', 'Have a nice day', 'Bye! Come back again']\n",
            "thanks : ['Happy to help!', 'Any time!', 'My pleasure', \"You're most welcome!\"]\n",
            "about : ['I.m Joana, your bot assistant', \"I'm Joana, an Artificial Intelligent bot\"]\n",
            "name : ['You can call me Joana.', \"I'm Joana!\", 'Just call me as Joana']\n",
            "help : ['Tell me how can assist you', 'Tell me your problem to assist you', 'Yes Sure, How can I support you']\n",
            "createaccount : ['You can just easily create a new account from our web site', 'Just go to our web site and follow the guidelines to create a new account']\n",
            "complaint : ['Please provide us your complaint in order to assist you', 'Please mention your complaint, we will reach you and sorry for any inconvenience caused']\n"
          ]
        }
      ]
    },
    {
      "cell_type": "code",
      "source": [
        "labels = []"
      ],
      "metadata": {
        "id": "veuVluczBH9m"
      },
      "execution_count": 43,
      "outputs": []
    },
    {
      "cell_type": "code",
      "source": [
        "for v in dict_.values():\n",
        "  labels.append(classes.index(v))"
      ],
      "metadata": {
        "id": "9AtUbyPbBNaQ"
      },
      "execution_count": 44,
      "outputs": []
    },
    {
      "cell_type": "code",
      "source": [
        "len(labels)"
      ],
      "metadata": {
        "colab": {
          "base_uri": "https://localhost:8080/"
        },
        "id": "1d-GfLBrB3vo",
        "outputId": "5acfb9bb-8816-490a-d849-d3d5626c2e18"
      },
      "execution_count": 45,
      "outputs": [
        {
          "output_type": "execute_result",
          "data": {
            "text/plain": [
              "32"
            ]
          },
          "metadata": {},
          "execution_count": 45
        }
      ]
    },
    {
      "cell_type": "code",
      "source": [
        "#Our corpus/corpus of documents\n",
        "list_of_documents = list(dict_.keys())\n",
        "list_of_documents"
      ],
      "metadata": {
        "colab": {
          "base_uri": "https://localhost:8080/"
        },
        "id": "32qNtkRnPkIQ",
        "outputId": "48763000-390f-40e6-e83a-4bf7d6960752"
      },
      "execution_count": 47,
      "outputs": [
        {
          "output_type": "execute_result",
          "data": {
            "text/plain": [
              "['Hi',\n",
              " 'Hey',\n",
              " 'Is anyone there?',\n",
              " 'Hello',\n",
              " 'Hay',\n",
              " 'Bye',\n",
              " 'See you later',\n",
              " 'Goodbye',\n",
              " 'Thanks',\n",
              " 'Thank you',\n",
              " \"That's helpful\",\n",
              " 'Thanks for the help',\n",
              " 'Who are you?',\n",
              " 'What are you?',\n",
              " 'Who you are?',\n",
              " 'what is your name',\n",
              " 'what should I call you',\n",
              " 'whats your name?',\n",
              " 'Could you help me?',\n",
              " 'give me a hand please',\n",
              " 'Can you help?',\n",
              " 'What can you do for me?',\n",
              " 'I need a support',\n",
              " 'I need a help',\n",
              " 'support me please',\n",
              " 'I need to create a new account',\n",
              " 'how to open a new account',\n",
              " 'I want to create an account',\n",
              " 'can you create an account for me',\n",
              " 'have a complaint',\n",
              " 'I want to raise a complaint',\n",
              " 'there is a complaint about a service']"
            ]
          },
          "metadata": {},
          "execution_count": 47
        }
      ]
    },
    {
      "cell_type": "code",
      "source": [
        "len(list_of_documents)"
      ],
      "metadata": {
        "colab": {
          "base_uri": "https://localhost:8080/"
        },
        "id": "8yFoNWNLELzH",
        "outputId": "e14c68b8-26fb-4513-a556-e7ec7150981c"
      },
      "execution_count": 49,
      "outputs": [
        {
          "output_type": "execute_result",
          "data": {
            "text/plain": [
              "32"
            ]
          },
          "metadata": {},
          "execution_count": 49
        }
      ]
    },
    {
      "cell_type": "code",
      "source": [
        "vectorizer = CountVectorizer()\n",
        "vectorizer.fit(list_of_documents)\n",
        "vector = vectorizer.transform(list_of_documents)"
      ],
      "metadata": {
        "id": "liNKG9ZkP25B"
      },
      "execution_count": 50,
      "outputs": []
    },
    {
      "cell_type": "code",
      "source": [
        "vectorizer.vocabulary_"
      ],
      "metadata": {
        "colab": {
          "base_uri": "https://localhost:8080/"
        },
        "id": "bSAf27FCQhwg",
        "outputId": "64b31a3b-bd88-4c7d-b232-62f31b48fef6"
      },
      "execution_count": 51,
      "outputs": [
        {
          "output_type": "execute_result",
          "data": {
            "text/plain": [
              "{'about': 0,\n",
              " 'account': 1,\n",
              " 'an': 2,\n",
              " 'anyone': 3,\n",
              " 'are': 4,\n",
              " 'bye': 5,\n",
              " 'call': 6,\n",
              " 'can': 7,\n",
              " 'complaint': 8,\n",
              " 'could': 9,\n",
              " 'create': 10,\n",
              " 'do': 11,\n",
              " 'for': 12,\n",
              " 'give': 13,\n",
              " 'goodbye': 14,\n",
              " 'hand': 15,\n",
              " 'have': 16,\n",
              " 'hay': 17,\n",
              " 'hello': 18,\n",
              " 'help': 19,\n",
              " 'helpful': 20,\n",
              " 'hey': 21,\n",
              " 'hi': 22,\n",
              " 'how': 23,\n",
              " 'is': 24,\n",
              " 'later': 25,\n",
              " 'me': 26,\n",
              " 'name': 27,\n",
              " 'need': 28,\n",
              " 'new': 29,\n",
              " 'open': 30,\n",
              " 'please': 31,\n",
              " 'raise': 32,\n",
              " 'see': 33,\n",
              " 'service': 34,\n",
              " 'should': 35,\n",
              " 'support': 36,\n",
              " 'thank': 37,\n",
              " 'thanks': 38,\n",
              " 'that': 39,\n",
              " 'the': 40,\n",
              " 'there': 41,\n",
              " 'to': 42,\n",
              " 'want': 43,\n",
              " 'what': 44,\n",
              " 'whats': 45,\n",
              " 'who': 46,\n",
              " 'you': 47,\n",
              " 'your': 48}"
            ]
          },
          "metadata": {},
          "execution_count": 51
        }
      ]
    },
    {
      "cell_type": "code",
      "source": [
        "X = vector.toarray()\n",
        "len(X[0])"
      ],
      "metadata": {
        "colab": {
          "base_uri": "https://localhost:8080/"
        },
        "id": "1iU7R3NAQu7g",
        "outputId": "d761eac3-5fec-4ecc-b15b-bd08cf80eb28"
      },
      "execution_count": 52,
      "outputs": [
        {
          "output_type": "execute_result",
          "data": {
            "text/plain": [
              "49"
            ]
          },
          "metadata": {},
          "execution_count": 52
        }
      ]
    },
    {
      "cell_type": "code",
      "source": [
        "X[0]"
      ],
      "metadata": {
        "colab": {
          "base_uri": "https://localhost:8080/"
        },
        "id": "GNvxs3vSRW-n",
        "outputId": "9b531be8-136c-46f5-c8da-5c6785faa64b"
      },
      "execution_count": 53,
      "outputs": [
        {
          "output_type": "execute_result",
          "data": {
            "text/plain": [
              "array([0, 0, 0, 0, 0, 0, 0, 0, 0, 0, 0, 0, 0, 0, 0, 0, 0, 0, 0, 0, 0, 0,\n",
              "       1, 0, 0, 0, 0, 0, 0, 0, 0, 0, 0, 0, 0, 0, 0, 0, 0, 0, 0, 0, 0, 0,\n",
              "       0, 0, 0, 0, 0])"
            ]
          },
          "metadata": {},
          "execution_count": 53
        }
      ]
    },
    {
      "cell_type": "code",
      "source": [
        "svc = LinearSVC(random_state=69, dual=False)\n",
        "svc.fit(X, labels)"
      ],
      "metadata": {
        "colab": {
          "base_uri": "https://localhost:8080/"
        },
        "id": "bgfz44zrSB2X",
        "outputId": "5007de00-5397-4449-b686-4f022b798d31"
      },
      "execution_count": 56,
      "outputs": [
        {
          "output_type": "execute_result",
          "data": {
            "text/plain": [
              "LinearSVC(dual=False, random_state=69)"
            ]
          },
          "metadata": {},
          "execution_count": 56
        }
      ]
    },
    {
      "cell_type": "code",
      "source": [
        "print(f'LinearSVC test accuracy: {svc.score(X, labels)*100:.2f}%')"
      ],
      "metadata": {
        "colab": {
          "base_uri": "https://localhost:8080/"
        },
        "id": "wmhWAFiJSgrX",
        "outputId": "d625e844-acc2-4e10-f335-94150a50d1e1"
      },
      "execution_count": 57,
      "outputs": [
        {
          "output_type": "stream",
          "name": "stdout",
          "text": [
            "LinearSVC test accuracy: 100.00%\n"
          ]
        }
      ]
    },
    {
      "cell_type": "code",
      "source": [
        ""
      ],
      "metadata": {
        "id": "HQBqOy1pAEuN"
      },
      "execution_count": null,
      "outputs": []
    },
    {
      "cell_type": "code",
      "source": [
        "tokenizer = Tokenizer()\n",
        "tokenizer.fit_on_texts(list_of_documents)\n",
        "word_index = tokenizer.word_index\n",
        "print(f\"Found {len(word_index)} unique tokens\")"
      ],
      "metadata": {
        "colab": {
          "base_uri": "https://localhost:8080/"
        },
        "id": "JuAsjRU2iKce",
        "outputId": "7d7a63b5-09e5-4efc-f6af-a445382a88f9"
      },
      "execution_count": 59,
      "outputs": [
        {
          "output_type": "stream",
          "name": "stdout",
          "text": [
            "Found 51 unique tokens\n"
          ]
        }
      ]
    },
    {
      "cell_type": "code",
      "source": [
        "word_index"
      ],
      "metadata": {
        "colab": {
          "base_uri": "https://localhost:8080/"
        },
        "id": "F59xqj9uCDjH",
        "outputId": "ab4ef8f8-cd1c-4248-c4c0-bc3ad7fe0a3f"
      },
      "execution_count": null,
      "outputs": [
        {
          "output_type": "execute_result",
          "data": {
            "text/plain": [
              "{'a': 2,\n",
              " 'about': 50,\n",
              " 'account': 8,\n",
              " 'an': 25,\n",
              " 'anyone': 28,\n",
              " 'are': 11,\n",
              " 'bye': 31,\n",
              " 'call': 40,\n",
              " 'can': 12,\n",
              " 'complaint': 15,\n",
              " 'could': 42,\n",
              " 'create': 14,\n",
              " 'do': 45,\n",
              " 'for': 10,\n",
              " 'give': 43,\n",
              " 'goodbye': 34,\n",
              " 'hand': 44,\n",
              " 'have': 48,\n",
              " 'hay': 30,\n",
              " 'hello': 29,\n",
              " 'help': 5,\n",
              " 'helpful': 37,\n",
              " 'hey': 27,\n",
              " 'hi': 26,\n",
              " 'how': 46,\n",
              " 'i': 3,\n",
              " 'is': 9,\n",
              " 'later': 33,\n",
              " 'me': 4,\n",
              " 'name': 20,\n",
              " 'need': 13,\n",
              " 'new': 23,\n",
              " 'open': 47,\n",
              " 'please': 21,\n",
              " 'raise': 49,\n",
              " 'see': 32,\n",
              " 'service': 51,\n",
              " 'should': 39,\n",
              " 'support': 22,\n",
              " 'thank': 35,\n",
              " 'thanks': 17,\n",
              " \"that's\": 36,\n",
              " 'the': 38,\n",
              " 'there': 16,\n",
              " 'to': 7,\n",
              " 'want': 24,\n",
              " 'what': 6,\n",
              " 'whats': 41,\n",
              " 'who': 18,\n",
              " 'you': 1,\n",
              " 'your': 19}"
            ]
          },
          "metadata": {},
          "execution_count": 80
        }
      ]
    },
    {
      "cell_type": "code",
      "source": [
        "X_ = tokenizer.texts_to_sequences(list_of_documents)\n",
        "X_"
      ],
      "metadata": {
        "colab": {
          "base_uri": "https://localhost:8080/"
        },
        "id": "TsvMUO6b2-Du",
        "outputId": "f4e5e808-9f9b-4b8d-a6b6-6241d7a45bef"
      },
      "execution_count": 60,
      "outputs": [
        {
          "output_type": "execute_result",
          "data": {
            "text/plain": [
              "[[26],\n",
              " [27],\n",
              " [9, 28, 16],\n",
              " [29],\n",
              " [30],\n",
              " [31],\n",
              " [32, 1, 33],\n",
              " [34],\n",
              " [17],\n",
              " [35, 1],\n",
              " [36, 37],\n",
              " [17, 10, 38, 5],\n",
              " [18, 11, 1],\n",
              " [6, 11, 1],\n",
              " [18, 1, 11],\n",
              " [6, 9, 19, 20],\n",
              " [6, 39, 3, 40, 1],\n",
              " [41, 19, 20],\n",
              " [42, 1, 5, 4],\n",
              " [43, 4, 2, 44, 21],\n",
              " [12, 1, 5],\n",
              " [6, 12, 1, 45, 10, 4],\n",
              " [3, 13, 2, 22],\n",
              " [3, 13, 2, 5],\n",
              " [22, 4, 21],\n",
              " [3, 13, 7, 14, 2, 23, 8],\n",
              " [46, 7, 47, 2, 23, 8],\n",
              " [3, 24, 7, 14, 25, 8],\n",
              " [12, 1, 14, 25, 8, 10, 4],\n",
              " [48, 2, 15],\n",
              " [3, 24, 7, 49, 2, 15],\n",
              " [16, 9, 2, 15, 50, 2, 51]]"
            ]
          },
          "metadata": {},
          "execution_count": 60
        }
      ]
    },
    {
      "cell_type": "code",
      "source": [
        "MAX_SEQUENCE_LENGTH = max(len(encoded_document) for encoded_document in X_)\n",
        "MAX_SEQUENCE_LENGTH"
      ],
      "metadata": {
        "colab": {
          "base_uri": "https://localhost:8080/"
        },
        "id": "Y7mlnaR5Ae3N",
        "outputId": "a709972c-e4f0-41be-e099-8e6a615fdcd6"
      },
      "execution_count": 61,
      "outputs": [
        {
          "output_type": "execute_result",
          "data": {
            "text/plain": [
              "7"
            ]
          },
          "metadata": {},
          "execution_count": 61
        }
      ]
    },
    {
      "cell_type": "code",
      "source": [
        "X_ = pad_sequences(X_, maxlen=MAX_SEQUENCE_LENGTH, padding=\"post\", truncating=\"post\")\n",
        "print(\"Shape of data tensor:\", X_.shape)"
      ],
      "metadata": {
        "colab": {
          "base_uri": "https://localhost:8080/"
        },
        "id": "YESkGVUjDnW4",
        "outputId": "3237cde1-8a34-438e-f9ce-24c7fbe74070"
      },
      "execution_count": 62,
      "outputs": [
        {
          "output_type": "stream",
          "name": "stdout",
          "text": [
            "Shape of data tensor: (32, 7)\n"
          ]
        }
      ]
    },
    {
      "cell_type": "code",
      "source": [
        "X_"
      ],
      "metadata": {
        "colab": {
          "base_uri": "https://localhost:8080/"
        },
        "id": "Zt4ioEZ5C9XX",
        "outputId": "c51517f9-be90-44dc-9ff8-d3d345f3c3fb"
      },
      "execution_count": 63,
      "outputs": [
        {
          "output_type": "execute_result",
          "data": {
            "text/plain": [
              "array([[26,  0,  0,  0,  0,  0,  0],\n",
              "       [27,  0,  0,  0,  0,  0,  0],\n",
              "       [ 9, 28, 16,  0,  0,  0,  0],\n",
              "       [29,  0,  0,  0,  0,  0,  0],\n",
              "       [30,  0,  0,  0,  0,  0,  0],\n",
              "       [31,  0,  0,  0,  0,  0,  0],\n",
              "       [32,  1, 33,  0,  0,  0,  0],\n",
              "       [34,  0,  0,  0,  0,  0,  0],\n",
              "       [17,  0,  0,  0,  0,  0,  0],\n",
              "       [35,  1,  0,  0,  0,  0,  0],\n",
              "       [36, 37,  0,  0,  0,  0,  0],\n",
              "       [17, 10, 38,  5,  0,  0,  0],\n",
              "       [18, 11,  1,  0,  0,  0,  0],\n",
              "       [ 6, 11,  1,  0,  0,  0,  0],\n",
              "       [18,  1, 11,  0,  0,  0,  0],\n",
              "       [ 6,  9, 19, 20,  0,  0,  0],\n",
              "       [ 6, 39,  3, 40,  1,  0,  0],\n",
              "       [41, 19, 20,  0,  0,  0,  0],\n",
              "       [42,  1,  5,  4,  0,  0,  0],\n",
              "       [43,  4,  2, 44, 21,  0,  0],\n",
              "       [12,  1,  5,  0,  0,  0,  0],\n",
              "       [ 6, 12,  1, 45, 10,  4,  0],\n",
              "       [ 3, 13,  2, 22,  0,  0,  0],\n",
              "       [ 3, 13,  2,  5,  0,  0,  0],\n",
              "       [22,  4, 21,  0,  0,  0,  0],\n",
              "       [ 3, 13,  7, 14,  2, 23,  8],\n",
              "       [46,  7, 47,  2, 23,  8,  0],\n",
              "       [ 3, 24,  7, 14, 25,  8,  0],\n",
              "       [12,  1, 14, 25,  8, 10,  4],\n",
              "       [48,  2, 15,  0,  0,  0,  0],\n",
              "       [ 3, 24,  7, 49,  2, 15,  0],\n",
              "       [16,  9,  2, 15, 50,  2, 51]], dtype=int32)"
            ]
          },
          "metadata": {},
          "execution_count": 63
        }
      ]
    },
    {
      "cell_type": "code",
      "source": [
        "Y = np.array(labels)"
      ],
      "metadata": {
        "id": "BPkkt9NvDFwX"
      },
      "execution_count": 65,
      "outputs": []
    },
    {
      "cell_type": "code",
      "source": [
        "Y.shape"
      ],
      "metadata": {
        "colab": {
          "base_uri": "https://localhost:8080/"
        },
        "id": "krcnV-XaG7DF",
        "outputId": "e0a9dd91-c46b-4acc-8f8a-91b2154f83da"
      },
      "execution_count": 66,
      "outputs": [
        {
          "output_type": "execute_result",
          "data": {
            "text/plain": [
              "(32,)"
            ]
          },
          "metadata": {},
          "execution_count": 66
        }
      ]
    },
    {
      "cell_type": "code",
      "source": [
        "X_.shape"
      ],
      "metadata": {
        "colab": {
          "base_uri": "https://localhost:8080/"
        },
        "id": "g8CUw8tfG87V",
        "outputId": "3c619bbf-e278-4288-8f3f-8ddd9347b5e8"
      },
      "execution_count": 67,
      "outputs": [
        {
          "output_type": "execute_result",
          "data": {
            "text/plain": [
              "(32, 7)"
            ]
          },
          "metadata": {},
          "execution_count": 67
        }
      ]
    },
    {
      "cell_type": "code",
      "source": [
        "n_classes = len(classes)\n",
        "n_classes"
      ],
      "metadata": {
        "id": "DLUZ2LyNdwvc",
        "colab": {
          "base_uri": "https://localhost:8080/"
        },
        "outputId": "df0d4fb8-a7bf-4359-f961-f36b6c940411"
      },
      "execution_count": 70,
      "outputs": [
        {
          "output_type": "execute_result",
          "data": {
            "text/plain": [
              "8"
            ]
          },
          "metadata": {},
          "execution_count": 70
        }
      ]
    },
    {
      "cell_type": "code",
      "source": [
        "EMBEDDING_DIM = 32\n",
        "MAX_NB_WORDS = len(word_index) + 1"
      ],
      "metadata": {
        "id": "TNq-HAQDBl3N"
      },
      "execution_count": 74,
      "outputs": []
    },
    {
      "cell_type": "code",
      "source": [
        "model = tf.keras.Sequential()\n",
        "model.add(tf.keras.layers.Embedding(MAX_NB_WORDS, EMBEDDING_DIM, input_length=X_.shape[1]))\n",
        "model.add(tf.keras.layers.SpatialDropout1D(.1))\n",
        "model.add(tf.keras.layers.Bidirectional(tf.keras.layers.LSTM(64, dropout=.2)))\n",
        "model.add(tf.keras.layers.Dense(n_classes, activation=\"softmax\"))\n",
        "opt = tf.keras.optimizers.Adam(learning_rate=.0003)\n",
        "model.compile(loss=tf.keras.losses.sparse_categorical_crossentropy, optimizer=opt, metrics=[\"accuracy\"])\n",
        "\n",
        "epochs = 75\n",
        "batch_size = 4\n",
        "\n",
        "history = model.fit(X_, Y, epochs=epochs, batch_size=batch_size, validation_split = 0.1)"
      ],
      "metadata": {
        "colab": {
          "base_uri": "https://localhost:8080/"
        },
        "id": "tivFHApZHA1W",
        "outputId": "f53a5b6b-cb1f-49d0-971b-26336a79fe4d"
      },
      "execution_count": 77,
      "outputs": [
        {
          "output_type": "stream",
          "name": "stdout",
          "text": [
            "Epoch 1/75\n",
            "7/7 [==============================] - 4s 151ms/step - loss: 2.0776 - accuracy: 0.2143 - val_loss: 2.0810 - val_accuracy: 0.2500\n",
            "Epoch 2/75\n",
            "7/7 [==============================] - 0s 10ms/step - loss: 2.0693 - accuracy: 0.4286 - val_loss: 2.0887 - val_accuracy: 0.2500\n",
            "Epoch 3/75\n",
            "7/7 [==============================] - 0s 9ms/step - loss: 2.0625 - accuracy: 0.3571 - val_loss: 2.0968 - val_accuracy: 0.2500\n",
            "Epoch 4/75\n",
            "7/7 [==============================] - 0s 10ms/step - loss: 2.0576 - accuracy: 0.3214 - val_loss: 2.1052 - val_accuracy: 0.0000e+00\n",
            "Epoch 5/75\n",
            "7/7 [==============================] - 0s 9ms/step - loss: 2.0509 - accuracy: 0.3929 - val_loss: 2.1143 - val_accuracy: 0.0000e+00\n",
            "Epoch 6/75\n",
            "7/7 [==============================] - 0s 9ms/step - loss: 2.0446 - accuracy: 0.2500 - val_loss: 2.1241 - val_accuracy: 0.0000e+00\n",
            "Epoch 7/75\n",
            "7/7 [==============================] - 0s 9ms/step - loss: 2.0336 - accuracy: 0.3214 - val_loss: 2.1353 - val_accuracy: 0.0000e+00\n",
            "Epoch 8/75\n",
            "7/7 [==============================] - 0s 10ms/step - loss: 2.0261 - accuracy: 0.3214 - val_loss: 2.1473 - val_accuracy: 0.0000e+00\n",
            "Epoch 9/75\n",
            "7/7 [==============================] - 0s 9ms/step - loss: 2.0186 - accuracy: 0.3929 - val_loss: 2.1613 - val_accuracy: 0.0000e+00\n",
            "Epoch 10/75\n",
            "7/7 [==============================] - 0s 9ms/step - loss: 2.0073 - accuracy: 0.3571 - val_loss: 2.1781 - val_accuracy: 0.0000e+00\n",
            "Epoch 11/75\n",
            "7/7 [==============================] - 0s 9ms/step - loss: 1.9928 - accuracy: 0.3929 - val_loss: 2.1968 - val_accuracy: 0.0000e+00\n",
            "Epoch 12/75\n",
            "7/7 [==============================] - 0s 10ms/step - loss: 1.9806 - accuracy: 0.4286 - val_loss: 2.2186 - val_accuracy: 0.0000e+00\n",
            "Epoch 13/75\n",
            "7/7 [==============================] - 0s 12ms/step - loss: 1.9633 - accuracy: 0.3929 - val_loss: 2.2446 - val_accuracy: 0.0000e+00\n",
            "Epoch 14/75\n",
            "7/7 [==============================] - 0s 11ms/step - loss: 1.9392 - accuracy: 0.4286 - val_loss: 2.2794 - val_accuracy: 0.0000e+00\n",
            "Epoch 15/75\n",
            "7/7 [==============================] - 0s 9ms/step - loss: 1.9183 - accuracy: 0.4286 - val_loss: 2.3198 - val_accuracy: 0.0000e+00\n",
            "Epoch 16/75\n",
            "7/7 [==============================] - 0s 11ms/step - loss: 1.8949 - accuracy: 0.3929 - val_loss: 2.3679 - val_accuracy: 0.0000e+00\n",
            "Epoch 17/75\n",
            "7/7 [==============================] - 0s 10ms/step - loss: 1.8623 - accuracy: 0.4286 - val_loss: 2.4323 - val_accuracy: 0.0000e+00\n",
            "Epoch 18/75\n",
            "7/7 [==============================] - 0s 9ms/step - loss: 1.8375 - accuracy: 0.4643 - val_loss: 2.4942 - val_accuracy: 0.0000e+00\n",
            "Epoch 19/75\n",
            "7/7 [==============================] - 0s 9ms/step - loss: 1.7880 - accuracy: 0.4643 - val_loss: 2.5470 - val_accuracy: 0.0000e+00\n",
            "Epoch 20/75\n",
            "7/7 [==============================] - 0s 10ms/step - loss: 1.7685 - accuracy: 0.3929 - val_loss: 2.6303 - val_accuracy: 0.0000e+00\n",
            "Epoch 21/75\n",
            "7/7 [==============================] - 0s 9ms/step - loss: 1.7489 - accuracy: 0.4286 - val_loss: 2.7036 - val_accuracy: 0.0000e+00\n",
            "Epoch 22/75\n",
            "7/7 [==============================] - 0s 10ms/step - loss: 1.7068 - accuracy: 0.5000 - val_loss: 2.7664 - val_accuracy: 0.0000e+00\n",
            "Epoch 23/75\n",
            "7/7 [==============================] - 0s 10ms/step - loss: 1.6805 - accuracy: 0.5000 - val_loss: 2.7666 - val_accuracy: 0.0000e+00\n",
            "Epoch 24/75\n",
            "7/7 [==============================] - 0s 10ms/step - loss: 1.6488 - accuracy: 0.4643 - val_loss: 2.7873 - val_accuracy: 0.0000e+00\n",
            "Epoch 25/75\n",
            "7/7 [==============================] - 0s 9ms/step - loss: 1.5915 - accuracy: 0.5000 - val_loss: 2.8210 - val_accuracy: 0.2500\n",
            "Epoch 26/75\n",
            "7/7 [==============================] - 0s 10ms/step - loss: 1.5655 - accuracy: 0.5357 - val_loss: 2.8331 - val_accuracy: 0.2500\n",
            "Epoch 27/75\n",
            "7/7 [==============================] - 0s 13ms/step - loss: 1.5103 - accuracy: 0.5357 - val_loss: 2.8677 - val_accuracy: 0.2500\n",
            "Epoch 28/75\n",
            "7/7 [==============================] - 0s 9ms/step - loss: 1.4575 - accuracy: 0.5357 - val_loss: 2.8738 - val_accuracy: 0.2500\n",
            "Epoch 29/75\n",
            "7/7 [==============================] - 0s 10ms/step - loss: 1.3917 - accuracy: 0.5357 - val_loss: 2.8819 - val_accuracy: 0.2500\n",
            "Epoch 30/75\n",
            "7/7 [==============================] - 0s 10ms/step - loss: 1.3570 - accuracy: 0.5357 - val_loss: 2.9405 - val_accuracy: 0.2500\n",
            "Epoch 31/75\n",
            "7/7 [==============================] - 0s 11ms/step - loss: 1.2876 - accuracy: 0.5357 - val_loss: 3.0414 - val_accuracy: 0.2500\n",
            "Epoch 32/75\n",
            "7/7 [==============================] - 0s 10ms/step - loss: 1.2084 - accuracy: 0.5357 - val_loss: 3.1242 - val_accuracy: 0.2500\n",
            "Epoch 33/75\n",
            "7/7 [==============================] - 0s 9ms/step - loss: 1.1635 - accuracy: 0.5357 - val_loss: 3.2243 - val_accuracy: 0.2500\n",
            "Epoch 34/75\n",
            "7/7 [==============================] - 0s 11ms/step - loss: 1.1078 - accuracy: 0.5357 - val_loss: 3.3705 - val_accuracy: 0.2500\n",
            "Epoch 35/75\n",
            "7/7 [==============================] - 0s 10ms/step - loss: 1.0863 - accuracy: 0.5357 - val_loss: 3.5394 - val_accuracy: 0.2500\n",
            "Epoch 36/75\n",
            "7/7 [==============================] - 0s 10ms/step - loss: 0.9975 - accuracy: 0.5714 - val_loss: 3.6489 - val_accuracy: 0.2500\n",
            "Epoch 37/75\n",
            "7/7 [==============================] - 0s 9ms/step - loss: 0.9439 - accuracy: 0.5357 - val_loss: 3.7970 - val_accuracy: 0.2500\n",
            "Epoch 38/75\n",
            "7/7 [==============================] - 0s 9ms/step - loss: 0.9258 - accuracy: 0.6071 - val_loss: 3.9336 - val_accuracy: 0.2500\n",
            "Epoch 39/75\n",
            "7/7 [==============================] - 0s 11ms/step - loss: 0.8789 - accuracy: 0.6429 - val_loss: 4.0203 - val_accuracy: 0.2500\n",
            "Epoch 40/75\n",
            "7/7 [==============================] - 0s 10ms/step - loss: 0.8333 - accuracy: 0.6429 - val_loss: 4.1569 - val_accuracy: 0.2500\n",
            "Epoch 41/75\n",
            "7/7 [==============================] - 0s 11ms/step - loss: 0.8216 - accuracy: 0.6786 - val_loss: 4.3237 - val_accuracy: 0.2500\n",
            "Epoch 42/75\n",
            "7/7 [==============================] - 0s 10ms/step - loss: 0.7832 - accuracy: 0.6786 - val_loss: 4.4667 - val_accuracy: 0.2500\n",
            "Epoch 43/75\n",
            "7/7 [==============================] - 0s 13ms/step - loss: 0.7492 - accuracy: 0.7500 - val_loss: 4.5954 - val_accuracy: 0.2500\n",
            "Epoch 44/75\n",
            "7/7 [==============================] - 0s 10ms/step - loss: 0.7171 - accuracy: 0.7857 - val_loss: 4.7192 - val_accuracy: 0.2500\n",
            "Epoch 45/75\n",
            "7/7 [==============================] - 0s 9ms/step - loss: 0.6911 - accuracy: 0.8214 - val_loss: 4.9117 - val_accuracy: 0.2500\n",
            "Epoch 46/75\n",
            "7/7 [==============================] - 0s 10ms/step - loss: 0.6649 - accuracy: 0.7500 - val_loss: 5.0740 - val_accuracy: 0.2500\n",
            "Epoch 47/75\n",
            "7/7 [==============================] - 0s 9ms/step - loss: 0.6252 - accuracy: 0.8214 - val_loss: 5.1324 - val_accuracy: 0.2500\n",
            "Epoch 48/75\n",
            "7/7 [==============================] - 0s 9ms/step - loss: 0.5927 - accuracy: 0.8214 - val_loss: 5.2112 - val_accuracy: 0.2500\n",
            "Epoch 49/75\n",
            "7/7 [==============================] - 0s 10ms/step - loss: 0.5632 - accuracy: 0.8214 - val_loss: 5.3198 - val_accuracy: 0.2500\n",
            "Epoch 50/75\n",
            "7/7 [==============================] - 0s 10ms/step - loss: 0.5389 - accuracy: 0.8214 - val_loss: 5.4314 - val_accuracy: 0.2500\n",
            "Epoch 51/75\n",
            "7/7 [==============================] - 0s 10ms/step - loss: 0.5151 - accuracy: 0.7857 - val_loss: 5.5290 - val_accuracy: 0.2500\n",
            "Epoch 52/75\n",
            "7/7 [==============================] - 0s 10ms/step - loss: 0.4809 - accuracy: 0.8571 - val_loss: 5.7082 - val_accuracy: 0.2500\n",
            "Epoch 53/75\n",
            "7/7 [==============================] - 0s 10ms/step - loss: 0.4680 - accuracy: 0.8571 - val_loss: 5.8382 - val_accuracy: 0.2500\n",
            "Epoch 54/75\n",
            "7/7 [==============================] - 0s 11ms/step - loss: 0.4320 - accuracy: 0.8929 - val_loss: 5.9991 - val_accuracy: 0.2500\n",
            "Epoch 55/75\n",
            "7/7 [==============================] - 0s 10ms/step - loss: 0.4101 - accuracy: 0.8571 - val_loss: 6.0828 - val_accuracy: 0.2500\n",
            "Epoch 56/75\n",
            "7/7 [==============================] - 0s 10ms/step - loss: 0.4010 - accuracy: 0.8571 - val_loss: 6.1411 - val_accuracy: 0.2500\n",
            "Epoch 57/75\n",
            "7/7 [==============================] - 0s 10ms/step - loss: 0.3860 - accuracy: 0.8571 - val_loss: 6.1857 - val_accuracy: 0.2500\n",
            "Epoch 58/75\n",
            "7/7 [==============================] - 0s 10ms/step - loss: 0.3407 - accuracy: 0.8929 - val_loss: 6.2620 - val_accuracy: 0.2500\n",
            "Epoch 59/75\n",
            "7/7 [==============================] - 0s 10ms/step - loss: 0.3160 - accuracy: 0.9286 - val_loss: 6.3845 - val_accuracy: 0.2500\n",
            "Epoch 60/75\n",
            "7/7 [==============================] - 0s 9ms/step - loss: 0.3077 - accuracy: 0.9286 - val_loss: 6.4567 - val_accuracy: 0.2500\n",
            "Epoch 61/75\n",
            "7/7 [==============================] - 0s 10ms/step - loss: 0.2918 - accuracy: 0.9643 - val_loss: 6.5118 - val_accuracy: 0.2500\n",
            "Epoch 62/75\n",
            "7/7 [==============================] - 0s 9ms/step - loss: 0.2679 - accuracy: 0.9286 - val_loss: 6.5341 - val_accuracy: 0.2500\n",
            "Epoch 63/75\n",
            "7/7 [==============================] - 0s 10ms/step - loss: 0.2683 - accuracy: 0.9286 - val_loss: 6.6034 - val_accuracy: 0.2500\n",
            "Epoch 64/75\n",
            "7/7 [==============================] - 0s 10ms/step - loss: 0.2527 - accuracy: 0.9643 - val_loss: 6.6728 - val_accuracy: 0.2500\n",
            "Epoch 65/75\n",
            "7/7 [==============================] - 0s 9ms/step - loss: 0.2595 - accuracy: 0.8571 - val_loss: 6.7244 - val_accuracy: 0.2500\n",
            "Epoch 66/75\n",
            "7/7 [==============================] - 0s 9ms/step - loss: 0.2400 - accuracy: 0.9643 - val_loss: 6.7421 - val_accuracy: 0.2500\n",
            "Epoch 67/75\n",
            "7/7 [==============================] - 0s 10ms/step - loss: 0.2266 - accuracy: 0.9643 - val_loss: 6.7919 - val_accuracy: 0.2500\n",
            "Epoch 68/75\n",
            "7/7 [==============================] - 0s 12ms/step - loss: 0.2047 - accuracy: 0.9643 - val_loss: 6.9003 - val_accuracy: 0.2500\n",
            "Epoch 69/75\n",
            "7/7 [==============================] - 0s 9ms/step - loss: 0.2401 - accuracy: 0.9286 - val_loss: 6.9728 - val_accuracy: 0.2500\n",
            "Epoch 70/75\n",
            "7/7 [==============================] - 0s 10ms/step - loss: 0.1914 - accuracy: 0.9643 - val_loss: 6.9691 - val_accuracy: 0.2500\n",
            "Epoch 71/75\n",
            "7/7 [==============================] - 0s 13ms/step - loss: 0.1762 - accuracy: 0.9286 - val_loss: 6.9855 - val_accuracy: 0.2500\n",
            "Epoch 72/75\n",
            "7/7 [==============================] - 0s 9ms/step - loss: 0.1626 - accuracy: 1.0000 - val_loss: 7.0088 - val_accuracy: 0.2500\n",
            "Epoch 73/75\n",
            "7/7 [==============================] - 0s 10ms/step - loss: 0.1595 - accuracy: 0.9643 - val_loss: 7.0780 - val_accuracy: 0.2500\n",
            "Epoch 74/75\n",
            "7/7 [==============================] - 0s 11ms/step - loss: 0.1624 - accuracy: 0.9643 - val_loss: 7.1115 - val_accuracy: 0.2500\n",
            "Epoch 75/75\n",
            "7/7 [==============================] - 0s 10ms/step - loss: 0.1567 - accuracy: 0.9643 - val_loss: 7.1364 - val_accuracy: 0.2500\n"
          ]
        }
      ]
    },
    {
      "cell_type": "code",
      "source": [
        "text = input(\"Unesite upit: \")\n",
        "document = [text]\n",
        "x = tokenizer.texts_to_sequences(document)\n",
        "x = pad_sequences(x, maxlen=MAX_SEQUENCE_LENGTH, padding=\"post\", truncating=\"post\")\n",
        "pred = tf.math.argmax(model.predict(x)[0]).numpy()\n",
        "print(\"intent:\", classes[pred])"
      ],
      "metadata": {
        "colab": {
          "base_uri": "https://localhost:8080/"
        },
        "id": "usqPav4hCaUd",
        "outputId": "ad9359e3-970c-49e6-e8c3-ba8c41f481d1"
      },
      "execution_count": 91,
      "outputs": [
        {
          "output_type": "stream",
          "name": "stdout",
          "text": [
            "Unesite upit: how can I help you\n",
            "intent: help\n"
          ]
        }
      ]
    }
  ]
}