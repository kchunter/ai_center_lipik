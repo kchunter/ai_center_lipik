{
  "nbformat": 4,
  "nbformat_minor": 0,
  "metadata": {
    "colab": {
      "name": "nlp_dario (1).ipynb",
      "provenance": [],
      "collapsed_sections": []
    },
    "kernelspec": {
      "name": "python3",
      "display_name": "Python 3"
    },
    "language_info": {
      "name": "python"
    }
  },
  "cells": [
    {
      "cell_type": "markdown",
      "source": [
        "# AI Center Lipik - NLP zadatak od Darija Karla (Klasifikacija na razini tokena)"
      ],
      "metadata": {
        "id": "mtAWDxlZUdos"
      }
    },
    {
      "cell_type": "code",
      "execution_count": null,
      "metadata": {
        "id": "jmleRWuVn7Od"
      },
      "outputs": [],
      "source": [
        "!pip install tensorflow\n",
        "!pip install spacy"
      ]
    },
    {
      "cell_type": "code",
      "source": [
        "import tensorflow as tf\n",
        "import pandas as pd \n",
        "import numpy as np \n",
        "import matplotlib.pyplot as plt\n",
        "\n",
        "import spacy\n",
        "\n",
        "import sklearn\n",
        "import scipy\n",
        "import os\n",
        "import json\n",
        "import csv\n",
        "import string"
      ],
      "metadata": {
        "id": "MUh6WZPloAoZ"
      },
      "execution_count": null,
      "outputs": []
    },
    {
      "cell_type": "code",
      "source": [
        "from google.colab import drive\n",
        "drive.mount('/content/drive')"
      ],
      "metadata": {
        "id": "_B_i5rAhQOIW",
        "outputId": "3505eb51-30ba-41fe-b212-279430e8e7a7",
        "colab": {
          "base_uri": "https://localhost:8080/"
        }
      },
      "execution_count": null,
      "outputs": [
        {
          "output_type": "stream",
          "name": "stdout",
          "text": [
            "Mounted at /content/drive\n"
          ]
        }
      ]
    },
    {
      "cell_type": "code",
      "source": [
        "!pwd"
      ],
      "metadata": {
        "colab": {
          "base_uri": "https://localhost:8080/"
        },
        "id": "nT_SdX8OIRXv",
        "outputId": "51be9944-947e-45f6-aca0-46b285a5a7e3"
      },
      "execution_count": null,
      "outputs": [
        {
          "output_type": "stream",
          "name": "stdout",
          "text": [
            "/content\n"
          ]
        }
      ]
    },
    {
      "cell_type": "code",
      "source": [
        "#Prvi dataset koji nam treba\n",
        "df = pd.read_csv(\"drive/MyDrive/food-related.csv\")"
      ],
      "metadata": {
        "id": "ts3m5ZXaIODJ"
      },
      "execution_count": null,
      "outputs": []
    },
    {
      "cell_type": "code",
      "source": [
        "df.head()"
      ],
      "metadata": {
        "colab": {
          "base_uri": "https://localhost:8080/",
          "height": 206
        },
        "id": "CmtOMdWPIN5o",
        "outputId": "76945a9f-7c55-4884-82b8-04f2d76185e2"
      },
      "execution_count": null,
      "outputs": [
        {
          "output_type": "execute_result",
          "data": {
            "text/plain": [
              "         a-yeast\n",
              "0            aai\n",
              "1        abalone\n",
              "2      abba-zaba\n",
              "3  abbreviations\n",
              "4       abietate"
            ],
            "text/html": [
              "\n",
              "  <div id=\"df-91fd037e-3252-456e-9bb4-b1b4474f68b4\">\n",
              "    <div class=\"colab-df-container\">\n",
              "      <div>\n",
              "<style scoped>\n",
              "    .dataframe tbody tr th:only-of-type {\n",
              "        vertical-align: middle;\n",
              "    }\n",
              "\n",
              "    .dataframe tbody tr th {\n",
              "        vertical-align: top;\n",
              "    }\n",
              "\n",
              "    .dataframe thead th {\n",
              "        text-align: right;\n",
              "    }\n",
              "</style>\n",
              "<table border=\"1\" class=\"dataframe\">\n",
              "  <thead>\n",
              "    <tr style=\"text-align: right;\">\n",
              "      <th></th>\n",
              "      <th>a-yeast</th>\n",
              "    </tr>\n",
              "  </thead>\n",
              "  <tbody>\n",
              "    <tr>\n",
              "      <th>0</th>\n",
              "      <td>aai</td>\n",
              "    </tr>\n",
              "    <tr>\n",
              "      <th>1</th>\n",
              "      <td>abalone</td>\n",
              "    </tr>\n",
              "    <tr>\n",
              "      <th>2</th>\n",
              "      <td>abba-zaba</td>\n",
              "    </tr>\n",
              "    <tr>\n",
              "      <th>3</th>\n",
              "      <td>abbreviations</td>\n",
              "    </tr>\n",
              "    <tr>\n",
              "      <th>4</th>\n",
              "      <td>abietate</td>\n",
              "    </tr>\n",
              "  </tbody>\n",
              "</table>\n",
              "</div>\n",
              "      <button class=\"colab-df-convert\" onclick=\"convertToInteractive('df-91fd037e-3252-456e-9bb4-b1b4474f68b4')\"\n",
              "              title=\"Convert this dataframe to an interactive table.\"\n",
              "              style=\"display:none;\">\n",
              "        \n",
              "  <svg xmlns=\"http://www.w3.org/2000/svg\" height=\"24px\"viewBox=\"0 0 24 24\"\n",
              "       width=\"24px\">\n",
              "    <path d=\"M0 0h24v24H0V0z\" fill=\"none\"/>\n",
              "    <path d=\"M18.56 5.44l.94 2.06.94-2.06 2.06-.94-2.06-.94-.94-2.06-.94 2.06-2.06.94zm-11 1L8.5 8.5l.94-2.06 2.06-.94-2.06-.94L8.5 2.5l-.94 2.06-2.06.94zm10 10l.94 2.06.94-2.06 2.06-.94-2.06-.94-.94-2.06-.94 2.06-2.06.94z\"/><path d=\"M17.41 7.96l-1.37-1.37c-.4-.4-.92-.59-1.43-.59-.52 0-1.04.2-1.43.59L10.3 9.45l-7.72 7.72c-.78.78-.78 2.05 0 2.83L4 21.41c.39.39.9.59 1.41.59.51 0 1.02-.2 1.41-.59l7.78-7.78 2.81-2.81c.8-.78.8-2.07 0-2.86zM5.41 20L4 18.59l7.72-7.72 1.47 1.35L5.41 20z\"/>\n",
              "  </svg>\n",
              "      </button>\n",
              "      \n",
              "  <style>\n",
              "    .colab-df-container {\n",
              "      display:flex;\n",
              "      flex-wrap:wrap;\n",
              "      gap: 12px;\n",
              "    }\n",
              "\n",
              "    .colab-df-convert {\n",
              "      background-color: #E8F0FE;\n",
              "      border: none;\n",
              "      border-radius: 50%;\n",
              "      cursor: pointer;\n",
              "      display: none;\n",
              "      fill: #1967D2;\n",
              "      height: 32px;\n",
              "      padding: 0 0 0 0;\n",
              "      width: 32px;\n",
              "    }\n",
              "\n",
              "    .colab-df-convert:hover {\n",
              "      background-color: #E2EBFA;\n",
              "      box-shadow: 0px 1px 2px rgba(60, 64, 67, 0.3), 0px 1px 3px 1px rgba(60, 64, 67, 0.15);\n",
              "      fill: #174EA6;\n",
              "    }\n",
              "\n",
              "    [theme=dark] .colab-df-convert {\n",
              "      background-color: #3B4455;\n",
              "      fill: #D2E3FC;\n",
              "    }\n",
              "\n",
              "    [theme=dark] .colab-df-convert:hover {\n",
              "      background-color: #434B5C;\n",
              "      box-shadow: 0px 1px 3px 1px rgba(0, 0, 0, 0.15);\n",
              "      filter: drop-shadow(0px 1px 2px rgba(0, 0, 0, 0.3));\n",
              "      fill: #FFFFFF;\n",
              "    }\n",
              "  </style>\n",
              "\n",
              "      <script>\n",
              "        const buttonEl =\n",
              "          document.querySelector('#df-91fd037e-3252-456e-9bb4-b1b4474f68b4 button.colab-df-convert');\n",
              "        buttonEl.style.display =\n",
              "          google.colab.kernel.accessAllowed ? 'block' : 'none';\n",
              "\n",
              "        async function convertToInteractive(key) {\n",
              "          const element = document.querySelector('#df-91fd037e-3252-456e-9bb4-b1b4474f68b4');\n",
              "          const dataTable =\n",
              "            await google.colab.kernel.invokeFunction('convertToInteractive',\n",
              "                                                     [key], {});\n",
              "          if (!dataTable) return;\n",
              "\n",
              "          const docLinkHtml = 'Like what you see? Visit the ' +\n",
              "            '<a target=\"_blank\" href=https://colab.research.google.com/notebooks/data_table.ipynb>data table notebook</a>'\n",
              "            + ' to learn more about interactive tables.';\n",
              "          element.innerHTML = '';\n",
              "          dataTable['output_type'] = 'display_data';\n",
              "          await google.colab.output.renderOutput(dataTable, element);\n",
              "          const docLink = document.createElement('div');\n",
              "          docLink.innerHTML = docLinkHtml;\n",
              "          element.appendChild(docLink);\n",
              "        }\n",
              "      </script>\n",
              "    </div>\n",
              "  </div>\n",
              "  "
            ]
          },
          "metadata": {},
          "execution_count": 6
        }
      ]
    },
    {
      "cell_type": "code",
      "source": [
        "df.tail()"
      ],
      "metadata": {
        "colab": {
          "base_uri": "https://localhost:8080/",
          "height": 206
        },
        "id": "EM85zuLmNBNt",
        "outputId": "9d5a43d5-1843-4182-83a1-1d5e5d14815e"
      },
      "execution_count": null,
      "outputs": [
        {
          "output_type": "execute_result",
          "data": {
            "text/plain": [
              "              a-yeast\n",
              "7126           zinger\n",
              "7127        zip-a-dee\n",
              "7128           ziploc\n",
              "7129  zodicarbonamide\n",
              "7130         zucchini"
            ],
            "text/html": [
              "\n",
              "  <div id=\"df-3d949c5b-2290-4f0b-90f1-586a71c1fceb\">\n",
              "    <div class=\"colab-df-container\">\n",
              "      <div>\n",
              "<style scoped>\n",
              "    .dataframe tbody tr th:only-of-type {\n",
              "        vertical-align: middle;\n",
              "    }\n",
              "\n",
              "    .dataframe tbody tr th {\n",
              "        vertical-align: top;\n",
              "    }\n",
              "\n",
              "    .dataframe thead th {\n",
              "        text-align: right;\n",
              "    }\n",
              "</style>\n",
              "<table border=\"1\" class=\"dataframe\">\n",
              "  <thead>\n",
              "    <tr style=\"text-align: right;\">\n",
              "      <th></th>\n",
              "      <th>a-yeast</th>\n",
              "    </tr>\n",
              "  </thead>\n",
              "  <tbody>\n",
              "    <tr>\n",
              "      <th>7126</th>\n",
              "      <td>zinger</td>\n",
              "    </tr>\n",
              "    <tr>\n",
              "      <th>7127</th>\n",
              "      <td>zip-a-dee</td>\n",
              "    </tr>\n",
              "    <tr>\n",
              "      <th>7128</th>\n",
              "      <td>ziploc</td>\n",
              "    </tr>\n",
              "    <tr>\n",
              "      <th>7129</th>\n",
              "      <td>zodicarbonamide</td>\n",
              "    </tr>\n",
              "    <tr>\n",
              "      <th>7130</th>\n",
              "      <td>zucchini</td>\n",
              "    </tr>\n",
              "  </tbody>\n",
              "</table>\n",
              "</div>\n",
              "      <button class=\"colab-df-convert\" onclick=\"convertToInteractive('df-3d949c5b-2290-4f0b-90f1-586a71c1fceb')\"\n",
              "              title=\"Convert this dataframe to an interactive table.\"\n",
              "              style=\"display:none;\">\n",
              "        \n",
              "  <svg xmlns=\"http://www.w3.org/2000/svg\" height=\"24px\"viewBox=\"0 0 24 24\"\n",
              "       width=\"24px\">\n",
              "    <path d=\"M0 0h24v24H0V0z\" fill=\"none\"/>\n",
              "    <path d=\"M18.56 5.44l.94 2.06.94-2.06 2.06-.94-2.06-.94-.94-2.06-.94 2.06-2.06.94zm-11 1L8.5 8.5l.94-2.06 2.06-.94-2.06-.94L8.5 2.5l-.94 2.06-2.06.94zm10 10l.94 2.06.94-2.06 2.06-.94-2.06-.94-.94-2.06-.94 2.06-2.06.94z\"/><path d=\"M17.41 7.96l-1.37-1.37c-.4-.4-.92-.59-1.43-.59-.52 0-1.04.2-1.43.59L10.3 9.45l-7.72 7.72c-.78.78-.78 2.05 0 2.83L4 21.41c.39.39.9.59 1.41.59.51 0 1.02-.2 1.41-.59l7.78-7.78 2.81-2.81c.8-.78.8-2.07 0-2.86zM5.41 20L4 18.59l7.72-7.72 1.47 1.35L5.41 20z\"/>\n",
              "  </svg>\n",
              "      </button>\n",
              "      \n",
              "  <style>\n",
              "    .colab-df-container {\n",
              "      display:flex;\n",
              "      flex-wrap:wrap;\n",
              "      gap: 12px;\n",
              "    }\n",
              "\n",
              "    .colab-df-convert {\n",
              "      background-color: #E8F0FE;\n",
              "      border: none;\n",
              "      border-radius: 50%;\n",
              "      cursor: pointer;\n",
              "      display: none;\n",
              "      fill: #1967D2;\n",
              "      height: 32px;\n",
              "      padding: 0 0 0 0;\n",
              "      width: 32px;\n",
              "    }\n",
              "\n",
              "    .colab-df-convert:hover {\n",
              "      background-color: #E2EBFA;\n",
              "      box-shadow: 0px 1px 2px rgba(60, 64, 67, 0.3), 0px 1px 3px 1px rgba(60, 64, 67, 0.15);\n",
              "      fill: #174EA6;\n",
              "    }\n",
              "\n",
              "    [theme=dark] .colab-df-convert {\n",
              "      background-color: #3B4455;\n",
              "      fill: #D2E3FC;\n",
              "    }\n",
              "\n",
              "    [theme=dark] .colab-df-convert:hover {\n",
              "      background-color: #434B5C;\n",
              "      box-shadow: 0px 1px 3px 1px rgba(0, 0, 0, 0.15);\n",
              "      filter: drop-shadow(0px 1px 2px rgba(0, 0, 0, 0.3));\n",
              "      fill: #FFFFFF;\n",
              "    }\n",
              "  </style>\n",
              "\n",
              "      <script>\n",
              "        const buttonEl =\n",
              "          document.querySelector('#df-3d949c5b-2290-4f0b-90f1-586a71c1fceb button.colab-df-convert');\n",
              "        buttonEl.style.display =\n",
              "          google.colab.kernel.accessAllowed ? 'block' : 'none';\n",
              "\n",
              "        async function convertToInteractive(key) {\n",
              "          const element = document.querySelector('#df-3d949c5b-2290-4f0b-90f1-586a71c1fceb');\n",
              "          const dataTable =\n",
              "            await google.colab.kernel.invokeFunction('convertToInteractive',\n",
              "                                                     [key], {});\n",
              "          if (!dataTable) return;\n",
              "\n",
              "          const docLinkHtml = 'Like what you see? Visit the ' +\n",
              "            '<a target=\"_blank\" href=https://colab.research.google.com/notebooks/data_table.ipynb>data table notebook</a>'\n",
              "            + ' to learn more about interactive tables.';\n",
              "          element.innerHTML = '';\n",
              "          dataTable['output_type'] = 'display_data';\n",
              "          await google.colab.output.renderOutput(dataTable, element);\n",
              "          const docLink = document.createElement('div');\n",
              "          docLink.innerHTML = docLinkHtml;\n",
              "          element.appendChild(docLink);\n",
              "        }\n",
              "      </script>\n",
              "    </div>\n",
              "  </div>\n",
              "  "
            ]
          },
          "metadata": {},
          "execution_count": 7
        }
      ]
    },
    {
      "cell_type": "code",
      "source": [
        "df.shape"
      ],
      "metadata": {
        "colab": {
          "base_uri": "https://localhost:8080/"
        },
        "id": "6TpU-NuEM0E1",
        "outputId": "cc5bad04-2790-4fb5-fddc-9e88432f1613"
      },
      "execution_count": null,
      "outputs": [
        {
          "output_type": "execute_result",
          "data": {
            "text/plain": [
              "(7131, 1)"
            ]
          },
          "metadata": {},
          "execution_count": 8
        }
      ]
    },
    {
      "cell_type": "code",
      "source": [
        "df.info()"
      ],
      "metadata": {
        "colab": {
          "base_uri": "https://localhost:8080/"
        },
        "id": "ZNLAbWH1pL64",
        "outputId": "4ad4f4f2-213c-48bc-c4ff-c9ca56c7296b"
      },
      "execution_count": null,
      "outputs": [
        {
          "output_type": "stream",
          "name": "stdout",
          "text": [
            "<class 'pandas.core.frame.DataFrame'>\n",
            "RangeIndex: 7131 entries, 0 to 7130\n",
            "Data columns (total 1 columns):\n",
            " #   Column   Non-Null Count  Dtype \n",
            "---  ------   --------------  ----- \n",
            " 0   a-yeast  7129 non-null   object\n",
            "dtypes: object(1)\n",
            "memory usage: 55.8+ KB\n"
          ]
        }
      ]
    },
    {
      "cell_type": "code",
      "source": [
        "df.drop_duplicates(inplace=True)\n",
        "df.dropna(inplace=True)"
      ],
      "metadata": {
        "id": "RS6C8cyYpXrm"
      },
      "execution_count": null,
      "outputs": []
    },
    {
      "cell_type": "code",
      "source": [
        "df.info()"
      ],
      "metadata": {
        "colab": {
          "base_uri": "https://localhost:8080/"
        },
        "id": "YCk380qipt-_",
        "outputId": "11accf8f-9e07-4384-edb2-1458aeced345"
      },
      "execution_count": null,
      "outputs": [
        {
          "output_type": "stream",
          "name": "stdout",
          "text": [
            "<class 'pandas.core.frame.DataFrame'>\n",
            "Int64Index: 7122 entries, 0 to 7130\n",
            "Data columns (total 1 columns):\n",
            " #   Column   Non-Null Count  Dtype \n",
            "---  ------   --------------  ----- \n",
            " 0   a-yeast  7122 non-null   object\n",
            "dtypes: object(1)\n",
            "memory usage: 111.3+ KB\n"
          ]
        }
      ]
    },
    {
      "cell_type": "code",
      "source": [
        "df.value_counts()"
      ],
      "metadata": {
        "colab": {
          "base_uri": "https://localhost:8080/"
        },
        "id": "tDT5Dt2zMgKO",
        "outputId": "05609a8b-9c43-4dd5-bdad-e27347826d9f"
      },
      "execution_count": null,
      "outputs": [
        {
          "output_type": "execute_result",
          "data": {
            "text/plain": [
              "a-yeast                       \n",
              "TRUE                              1\n",
              "pasteurize                        1\n",
              "patties                           1\n",
              "patrially                         1\n",
              "patients                          1\n",
              "                                 ..\n",
              "fatgcholestrol                    1\n",
              "fatgcholesterolmgsodiummgtotal    1\n",
              "fatgcholesterolmgsodium           1\n",
              "fatgcholesterolgsodium            1\n",
              "zucchini                          1\n",
              "Length: 7122, dtype: int64"
            ]
          },
          "metadata": {},
          "execution_count": 12
        }
      ]
    },
    {
      "cell_type": "code",
      "source": [
        "#Drugi dataset koji nam treba\n",
        "with open(\"drive/MyDrive/TM-2-2020/data/food-ordering.json\") as f:\n",
        "    food_related = json.load(f)"
      ],
      "metadata": {
        "id": "1TxhAtrKIrgh"
      },
      "execution_count": null,
      "outputs": []
    },
    {
      "cell_type": "code",
      "source": [
        "#Treći dataset koji nam treba\n",
        "with open(\"drive/MyDrive/TM-2-2020/data/restaurant-search.json\") as f:\n",
        "    restaurant_search = json.load(f)"
      ],
      "metadata": {
        "id": "iIFZOneMJeYv"
      },
      "execution_count": null,
      "outputs": []
    },
    {
      "cell_type": "code",
      "source": [
        "len(food_related), len(restaurant_search)"
      ],
      "metadata": {
        "colab": {
          "base_uri": "https://localhost:8080/"
        },
        "id": "o3bX4fM7MDY1",
        "outputId": "c6d503a1-897b-41eb-9922-f3f7e296e2a9"
      },
      "execution_count": null,
      "outputs": [
        {
          "output_type": "execute_result",
          "data": {
            "text/plain": [
              "(1050, 3276)"
            ]
          },
          "metadata": {},
          "execution_count": 15
        }
      ]
    },
    {
      "cell_type": "code",
      "source": [
        "### ČITANJE JSONA: \n",
        "def read_food_json(filepath):\n",
        "    with open(filepath) as f:\n",
        "        data = json.loads(f.read())\n",
        "\n",
        "    texts = []\n",
        "    foods = []\n",
        "    labels = []\n",
        "    for conversation in data:\n",
        "        utterances = conversation['utterances']\n",
        "        for utterance in utterances:\n",
        "            text = utterance['text']\n",
        "            texts.append(text) # ok\n",
        "\n",
        "            try:\n",
        "                fs = []\n",
        "                anns = []\n",
        "                for segment in utterance['segments']:\n",
        "                    food_words = segment['text']\n",
        "                    fs.append(food_words)\n",
        "                    annotations = segment['annotations']\n",
        "                    for annotation in annotations:\n",
        "                        anns.append(annotation['name'])\n",
        "                foods.append(fs)\n",
        "                labels.append(anns)\n",
        "            except KeyError:\n",
        "                foods.append([])\n",
        "                labels.append([])\n",
        "                continue\n",
        "\n",
        "    assert len(texts) == len(foods) == len(labels)\n",
        "    return texts, foods, labels"
      ],
      "metadata": {
        "id": "eIcwAJmoj2Gp"
      },
      "execution_count": null,
      "outputs": []
    },
    {
      "cell_type": "code",
      "source": [
        "#fo_texts (skraćeno od food-ordering texts). Isto vrijedi i za ostale.\n",
        "fo_texts, fo_foods, fo_labels = read_food_json(\"drive/MyDrive/TM-2-2020/data/food-ordering.json\")"
      ],
      "metadata": {
        "id": "thzImGfoj16p"
      },
      "execution_count": null,
      "outputs": []
    },
    {
      "cell_type": "code",
      "source": [
        "rs_texts, rs_foods, rs_labels = read_food_json(\"drive/MyDrive/TM-2-2020/data/restaurant-search.json\")"
      ],
      "metadata": {
        "id": "DMFZu7Xuj1vR"
      },
      "execution_count": null,
      "outputs": []
    },
    {
      "cell_type": "code",
      "source": [
        "#fo_texts bit će ulaz u model (nakon što se prethodno predprocesira). Ostale fo_foods, fo_labels, rs_texts, rs_foods i rs_labels nećemo koristiti\n",
        "print(type(fo_texts))\n",
        "fo_texts[:5]"
      ],
      "metadata": {
        "colab": {
          "base_uri": "https://localhost:8080/"
        },
        "id": "9uOsGsFrlpLh",
        "outputId": "42064fcc-fff3-4c2f-8002-9acfdf6754bb"
      },
      "execution_count": null,
      "outputs": [
        {
          "output_type": "stream",
          "name": "stdout",
          "text": [
            "<class 'list'>\n"
          ]
        },
        {
          "output_type": "execute_result",
          "data": {
            "text/plain": [
              "['Hi.',\n",
              " 'How can I help you?',\n",
              " 'What would you like to order in Barbecue?',\n",
              " \"Yeah, I'd like to get a rack of ribs.\",\n",
              " 'What kind of sides can I get with that?']"
            ]
          },
          "metadata": {},
          "execution_count": 19
        }
      ]
    },
    {
      "cell_type": "code",
      "source": [
        "fo_foods[:5]"
      ],
      "metadata": {
        "id": "GBRWR3LL28V_",
        "colab": {
          "base_uri": "https://localhost:8080/"
        },
        "outputId": "03da965b-3985-42b4-ea63-2bca3feaa1ba"
      },
      "execution_count": null,
      "outputs": [
        {
          "output_type": "execute_result",
          "data": {
            "text/plain": [
              "[[], [], ['Barbecue'], ['a rack of ribs'], []]"
            ]
          },
          "metadata": {},
          "execution_count": 20
        }
      ]
    },
    {
      "cell_type": "code",
      "source": [
        "fo_labels[:5]"
      ],
      "metadata": {
        "colab": {
          "base_uri": "https://localhost:8080/"
        },
        "id": "pjJHDhcIqgkW",
        "outputId": "10a40f82-79e7-48ac-9363-ef438b52f4d6"
      },
      "execution_count": null,
      "outputs": [
        {
          "output_type": "execute_result",
          "data": {
            "text/plain": [
              "[[], [], ['food_order.type.food'], ['food_order.name.item'], []]"
            ]
          },
          "metadata": {},
          "execution_count": 21
        }
      ]
    },
    {
      "cell_type": "code",
      "source": [
        "len(fo_texts)"
      ],
      "metadata": {
        "colab": {
          "base_uri": "https://localhost:8080/"
        },
        "id": "-jT83qXFoC9W",
        "outputId": "bfa3f4c4-616f-4432-b1d1-7e96dca25adc"
      },
      "execution_count": null,
      "outputs": [
        {
          "output_type": "execute_result",
          "data": {
            "text/plain": [
              "13953"
            ]
          },
          "metadata": {},
          "execution_count": 22
        }
      ]
    },
    {
      "cell_type": "code",
      "source": [
        "!python -m spacy download en_core_web_lg"
      ],
      "metadata": {
        "id": "Y-Spxz35qyid",
        "colab": {
          "base_uri": "https://localhost:8080/"
        },
        "outputId": "c5763d76-1d86-4e8c-a062-df7d828cd04c"
      },
      "execution_count": null,
      "outputs": [
        {
          "output_type": "stream",
          "name": "stdout",
          "text": [
            "Collecting en_core_web_lg==2.2.5\n",
            "  Downloading https://github.com/explosion/spacy-models/releases/download/en_core_web_lg-2.2.5/en_core_web_lg-2.2.5.tar.gz (827.9 MB)\n",
            "\u001b[K     |████████████████████████████████| 827.9 MB 1.5 MB/s \n",
            "\u001b[?25hRequirement already satisfied: spacy>=2.2.2 in /usr/local/lib/python3.7/dist-packages (from en_core_web_lg==2.2.5) (2.2.4)\n",
            "Requirement already satisfied: plac<1.2.0,>=0.9.6 in /usr/local/lib/python3.7/dist-packages (from spacy>=2.2.2->en_core_web_lg==2.2.5) (1.1.3)\n",
            "Requirement already satisfied: blis<0.5.0,>=0.4.0 in /usr/local/lib/python3.7/dist-packages (from spacy>=2.2.2->en_core_web_lg==2.2.5) (0.4.1)\n",
            "Requirement already satisfied: murmurhash<1.1.0,>=0.28.0 in /usr/local/lib/python3.7/dist-packages (from spacy>=2.2.2->en_core_web_lg==2.2.5) (1.0.6)\n",
            "Requirement already satisfied: srsly<1.1.0,>=1.0.2 in /usr/local/lib/python3.7/dist-packages (from spacy>=2.2.2->en_core_web_lg==2.2.5) (1.0.5)\n",
            "Requirement already satisfied: thinc==7.4.0 in /usr/local/lib/python3.7/dist-packages (from spacy>=2.2.2->en_core_web_lg==2.2.5) (7.4.0)\n",
            "Requirement already satisfied: catalogue<1.1.0,>=0.0.7 in /usr/local/lib/python3.7/dist-packages (from spacy>=2.2.2->en_core_web_lg==2.2.5) (1.0.0)\n",
            "Requirement already satisfied: preshed<3.1.0,>=3.0.2 in /usr/local/lib/python3.7/dist-packages (from spacy>=2.2.2->en_core_web_lg==2.2.5) (3.0.6)\n",
            "Requirement already satisfied: cymem<2.1.0,>=2.0.2 in /usr/local/lib/python3.7/dist-packages (from spacy>=2.2.2->en_core_web_lg==2.2.5) (2.0.6)\n",
            "Requirement already satisfied: setuptools in /usr/local/lib/python3.7/dist-packages (from spacy>=2.2.2->en_core_web_lg==2.2.5) (57.4.0)\n",
            "Requirement already satisfied: tqdm<5.0.0,>=4.38.0 in /usr/local/lib/python3.7/dist-packages (from spacy>=2.2.2->en_core_web_lg==2.2.5) (4.63.0)\n",
            "Requirement already satisfied: requests<3.0.0,>=2.13.0 in /usr/local/lib/python3.7/dist-packages (from spacy>=2.2.2->en_core_web_lg==2.2.5) (2.23.0)\n",
            "Requirement already satisfied: wasabi<1.1.0,>=0.4.0 in /usr/local/lib/python3.7/dist-packages (from spacy>=2.2.2->en_core_web_lg==2.2.5) (0.9.0)\n",
            "Requirement already satisfied: numpy>=1.15.0 in /usr/local/lib/python3.7/dist-packages (from spacy>=2.2.2->en_core_web_lg==2.2.5) (1.21.5)\n",
            "Requirement already satisfied: importlib-metadata>=0.20 in /usr/local/lib/python3.7/dist-packages (from catalogue<1.1.0,>=0.0.7->spacy>=2.2.2->en_core_web_lg==2.2.5) (4.11.2)\n",
            "Requirement already satisfied: zipp>=0.5 in /usr/local/lib/python3.7/dist-packages (from importlib-metadata>=0.20->catalogue<1.1.0,>=0.0.7->spacy>=2.2.2->en_core_web_lg==2.2.5) (3.7.0)\n",
            "Requirement already satisfied: typing-extensions>=3.6.4 in /usr/local/lib/python3.7/dist-packages (from importlib-metadata>=0.20->catalogue<1.1.0,>=0.0.7->spacy>=2.2.2->en_core_web_lg==2.2.5) (3.10.0.2)\n",
            "Requirement already satisfied: chardet<4,>=3.0.2 in /usr/local/lib/python3.7/dist-packages (from requests<3.0.0,>=2.13.0->spacy>=2.2.2->en_core_web_lg==2.2.5) (3.0.4)\n",
            "Requirement already satisfied: idna<3,>=2.5 in /usr/local/lib/python3.7/dist-packages (from requests<3.0.0,>=2.13.0->spacy>=2.2.2->en_core_web_lg==2.2.5) (2.10)\n",
            "Requirement already satisfied: urllib3!=1.25.0,!=1.25.1,<1.26,>=1.21.1 in /usr/local/lib/python3.7/dist-packages (from requests<3.0.0,>=2.13.0->spacy>=2.2.2->en_core_web_lg==2.2.5) (1.24.3)\n",
            "Requirement already satisfied: certifi>=2017.4.17 in /usr/local/lib/python3.7/dist-packages (from requests<3.0.0,>=2.13.0->spacy>=2.2.2->en_core_web_lg==2.2.5) (2021.10.8)\n",
            "\u001b[38;5;2m✔ Download and installation successful\u001b[0m\n",
            "You can now load the model via spacy.load('en_core_web_lg')\n"
          ]
        }
      ]
    },
    {
      "cell_type": "markdown",
      "source": [
        "##Restartaj runtime"
      ],
      "metadata": {
        "id": "d95jAwnetu2C"
      }
    },
    {
      "cell_type": "code",
      "source": [
        "nlp = spacy.load(\"en_core_web_lg\")"
      ],
      "metadata": {
        "id": "dL7v3N70tv9R"
      },
      "execution_count": null,
      "outputs": []
    },
    {
      "cell_type": "code",
      "source": [
        "# Prvo ćemo pripremiti oznake/labele/targete, tj. ono što želimo da model predviđa, ono što će biti njegov izlaz. Njih ćemo spremiti u listu fo_texts_labels."
      ],
      "metadata": {
        "id": "wpfDuDHXq0EF"
      },
      "execution_count": null,
      "outputs": []
    },
    {
      "cell_type": "code",
      "source": [
        "#Ovo traje cca 2 minute i 20 sekunde na Colabu. \"sequence\" se može nazvati i sentence i row. Uglavnom, to se odnosi na naš jedan data point/instancu/sample/entitet (njih ima 13953)\n",
        "fo_texts_labels = []\n",
        "\n",
        "for sequence in fo_texts:\n",
        "  tmp_list = []\n",
        "  doc = nlp(sequence)\n",
        "  for token in doc:\n",
        "    if token.text in df[\"a-yeast\"].values:\n",
        "      tmp_list.append(1)\n",
        "    else:\n",
        "      tmp_list.append(0)\n",
        "  fo_texts_labels.append(tmp_list)"
      ],
      "metadata": {
        "id": "GFITxqpqlpBw"
      },
      "execution_count": null,
      "outputs": []
    },
    {
      "cell_type": "code",
      "source": [
        "fo_texts_labels[:5]"
      ],
      "metadata": {
        "colab": {
          "base_uri": "https://localhost:8080/"
        },
        "id": "7XaviHkskQSo",
        "outputId": "8b2812e0-1623-4f18-89d6-1ed94a6b5c17"
      },
      "execution_count": null,
      "outputs": [
        {
          "output_type": "execute_result",
          "data": {
            "text/plain": [
              "[[0, 0],\n",
              " [0, 1, 0, 1, 0, 0],\n",
              " [0, 0, 0, 1, 1, 1, 1, 0, 0],\n",
              " [0, 0, 0, 0, 1, 1, 1, 0, 0, 1, 0, 0],\n",
              " [0, 1, 1, 0, 1, 0, 1, 0, 0, 0]]"
            ]
          },
          "metadata": {},
          "execution_count": 26
        }
      ]
    },
    {
      "cell_type": "code",
      "source": [
        "len(fo_texts_labels)"
      ],
      "metadata": {
        "colab": {
          "base_uri": "https://localhost:8080/"
        },
        "id": "MebtZN4wkQDJ",
        "outputId": "4f35b50e-8431-4079-dac9-aae5a3dd7bff"
      },
      "execution_count": null,
      "outputs": [
        {
          "output_type": "execute_result",
          "data": {
            "text/plain": [
              "13953"
            ]
          },
          "metadata": {},
          "execution_count": 27
        }
      ]
    },
    {
      "cell_type": "code",
      "source": [
        "max_seq_len = len(fo_texts_labels[0])"
      ],
      "metadata": {
        "id": "bs7ogTbfwD6c"
      },
      "execution_count": null,
      "outputs": []
    },
    {
      "cell_type": "code",
      "source": [
        "for i in range(1, len(fo_texts_labels)):\n",
        "  sequence = fo_texts_labels[i]\n",
        "  if len(sequence) > max_seq_len:\n",
        "    max_seq_len = len(sequence)"
      ],
      "metadata": {
        "id": "kHYRd5iSwbrC"
      },
      "execution_count": null,
      "outputs": []
    },
    {
      "cell_type": "code",
      "source": [
        "max_seq_len"
      ],
      "metadata": {
        "colab": {
          "base_uri": "https://localhost:8080/"
        },
        "id": "YUuzV4xbw3PK",
        "outputId": "720a0464-77ab-4af5-8d28-8ffa83b0a4ba"
      },
      "execution_count": null,
      "outputs": [
        {
          "output_type": "execute_result",
          "data": {
            "text/plain": [
              "116"
            ]
          },
          "metadata": {},
          "execution_count": 30
        }
      ]
    },
    {
      "cell_type": "code",
      "source": [
        "#Treba napraviti padding, tj. popuniti redove iz \"fo_texts_labels\" s dvojkama (2) tako da svi imaju isti broj stupaca, ato je 116 (max_seq_len)\n",
        "fo_texts_labels_padded = []\n",
        "\n",
        "for sequence in fo_texts_labels:\n",
        "  current_seq_len = len(sequence)\n",
        "  if current_seq_len < max_seq_len:\n",
        "    fo_texts_labels_padded.append(sequence+(max_seq_len-current_seq_len)*[2])\n",
        "  else:\n",
        "    fo_texts_labels_padded.append(sequence)"
      ],
      "metadata": {
        "id": "lLYf0qoIyoqq"
      },
      "execution_count": null,
      "outputs": []
    },
    {
      "cell_type": "code",
      "source": [
        "# Ispisuje broj redaka\n",
        "len(fo_texts_labels_padded)"
      ],
      "metadata": {
        "colab": {
          "base_uri": "https://localhost:8080/"
        },
        "id": "qycIvq7tyogp",
        "outputId": "0bbf97e0-dbd9-40ca-9b43-5c757bb5574f"
      },
      "execution_count": null,
      "outputs": [
        {
          "output_type": "execute_result",
          "data": {
            "text/plain": [
              "13953"
            ]
          },
          "metadata": {},
          "execution_count": 32
        }
      ]
    },
    {
      "cell_type": "code",
      "source": [
        "# Ispisuje broj stupaca\n",
        "len(fo_texts_labels_padded[0])"
      ],
      "metadata": {
        "colab": {
          "base_uri": "https://localhost:8080/"
        },
        "id": "i5NEzKGIps4_",
        "outputId": "82bcf4a7-8253-43d0-be68-7429221a1a79"
      },
      "execution_count": null,
      "outputs": [
        {
          "output_type": "execute_result",
          "data": {
            "text/plain": [
              "116"
            ]
          },
          "metadata": {},
          "execution_count": 33
        }
      ]
    },
    {
      "cell_type": "markdown",
      "source": [
        "### Oznake/labele su pripremljene, sada je još potrebno pripremiti X, tj. ulaz u naš model, a to će se napraviti tako da se vektorizira text iz varijable/liste \"fo_texts\""
      ],
      "metadata": {
        "id": "6vsnmF_5zJY_"
      }
    },
    {
      "cell_type": "code",
      "source": [
        "food_order_df = pd.DataFrame({\"texts\": fo_texts})"
      ],
      "metadata": {
        "id": "yOXp4B8BzKOE"
      },
      "execution_count": null,
      "outputs": []
    },
    {
      "cell_type": "code",
      "source": [
        "food_order_df.head()"
      ],
      "metadata": {
        "colab": {
          "base_uri": "https://localhost:8080/",
          "height": 206
        },
        "id": "cQcSLwsZKJ29",
        "outputId": "68bd79ce-07fe-496d-fd0b-9f368a6e58de"
      },
      "execution_count": null,
      "outputs": [
        {
          "output_type": "execute_result",
          "data": {
            "text/plain": [
              "                                       texts\n",
              "0                                        Hi.\n",
              "1                        How can I help you?\n",
              "2  What would you like to order in Barbecue?\n",
              "3      Yeah, I'd like to get a rack of ribs.\n",
              "4    What kind of sides can I get with that?"
            ],
            "text/html": [
              "\n",
              "  <div id=\"df-31ea28f5-5f95-4dae-b83c-6e5a37e80283\">\n",
              "    <div class=\"colab-df-container\">\n",
              "      <div>\n",
              "<style scoped>\n",
              "    .dataframe tbody tr th:only-of-type {\n",
              "        vertical-align: middle;\n",
              "    }\n",
              "\n",
              "    .dataframe tbody tr th {\n",
              "        vertical-align: top;\n",
              "    }\n",
              "\n",
              "    .dataframe thead th {\n",
              "        text-align: right;\n",
              "    }\n",
              "</style>\n",
              "<table border=\"1\" class=\"dataframe\">\n",
              "  <thead>\n",
              "    <tr style=\"text-align: right;\">\n",
              "      <th></th>\n",
              "      <th>texts</th>\n",
              "    </tr>\n",
              "  </thead>\n",
              "  <tbody>\n",
              "    <tr>\n",
              "      <th>0</th>\n",
              "      <td>Hi.</td>\n",
              "    </tr>\n",
              "    <tr>\n",
              "      <th>1</th>\n",
              "      <td>How can I help you?</td>\n",
              "    </tr>\n",
              "    <tr>\n",
              "      <th>2</th>\n",
              "      <td>What would you like to order in Barbecue?</td>\n",
              "    </tr>\n",
              "    <tr>\n",
              "      <th>3</th>\n",
              "      <td>Yeah, I'd like to get a rack of ribs.</td>\n",
              "    </tr>\n",
              "    <tr>\n",
              "      <th>4</th>\n",
              "      <td>What kind of sides can I get with that?</td>\n",
              "    </tr>\n",
              "  </tbody>\n",
              "</table>\n",
              "</div>\n",
              "      <button class=\"colab-df-convert\" onclick=\"convertToInteractive('df-31ea28f5-5f95-4dae-b83c-6e5a37e80283')\"\n",
              "              title=\"Convert this dataframe to an interactive table.\"\n",
              "              style=\"display:none;\">\n",
              "        \n",
              "  <svg xmlns=\"http://www.w3.org/2000/svg\" height=\"24px\"viewBox=\"0 0 24 24\"\n",
              "       width=\"24px\">\n",
              "    <path d=\"M0 0h24v24H0V0z\" fill=\"none\"/>\n",
              "    <path d=\"M18.56 5.44l.94 2.06.94-2.06 2.06-.94-2.06-.94-.94-2.06-.94 2.06-2.06.94zm-11 1L8.5 8.5l.94-2.06 2.06-.94-2.06-.94L8.5 2.5l-.94 2.06-2.06.94zm10 10l.94 2.06.94-2.06 2.06-.94-2.06-.94-.94-2.06-.94 2.06-2.06.94z\"/><path d=\"M17.41 7.96l-1.37-1.37c-.4-.4-.92-.59-1.43-.59-.52 0-1.04.2-1.43.59L10.3 9.45l-7.72 7.72c-.78.78-.78 2.05 0 2.83L4 21.41c.39.39.9.59 1.41.59.51 0 1.02-.2 1.41-.59l7.78-7.78 2.81-2.81c.8-.78.8-2.07 0-2.86zM5.41 20L4 18.59l7.72-7.72 1.47 1.35L5.41 20z\"/>\n",
              "  </svg>\n",
              "      </button>\n",
              "      \n",
              "  <style>\n",
              "    .colab-df-container {\n",
              "      display:flex;\n",
              "      flex-wrap:wrap;\n",
              "      gap: 12px;\n",
              "    }\n",
              "\n",
              "    .colab-df-convert {\n",
              "      background-color: #E8F0FE;\n",
              "      border: none;\n",
              "      border-radius: 50%;\n",
              "      cursor: pointer;\n",
              "      display: none;\n",
              "      fill: #1967D2;\n",
              "      height: 32px;\n",
              "      padding: 0 0 0 0;\n",
              "      width: 32px;\n",
              "    }\n",
              "\n",
              "    .colab-df-convert:hover {\n",
              "      background-color: #E2EBFA;\n",
              "      box-shadow: 0px 1px 2px rgba(60, 64, 67, 0.3), 0px 1px 3px 1px rgba(60, 64, 67, 0.15);\n",
              "      fill: #174EA6;\n",
              "    }\n",
              "\n",
              "    [theme=dark] .colab-df-convert {\n",
              "      background-color: #3B4455;\n",
              "      fill: #D2E3FC;\n",
              "    }\n",
              "\n",
              "    [theme=dark] .colab-df-convert:hover {\n",
              "      background-color: #434B5C;\n",
              "      box-shadow: 0px 1px 3px 1px rgba(0, 0, 0, 0.15);\n",
              "      filter: drop-shadow(0px 1px 2px rgba(0, 0, 0, 0.3));\n",
              "      fill: #FFFFFF;\n",
              "    }\n",
              "  </style>\n",
              "\n",
              "      <script>\n",
              "        const buttonEl =\n",
              "          document.querySelector('#df-31ea28f5-5f95-4dae-b83c-6e5a37e80283 button.colab-df-convert');\n",
              "        buttonEl.style.display =\n",
              "          google.colab.kernel.accessAllowed ? 'block' : 'none';\n",
              "\n",
              "        async function convertToInteractive(key) {\n",
              "          const element = document.querySelector('#df-31ea28f5-5f95-4dae-b83c-6e5a37e80283');\n",
              "          const dataTable =\n",
              "            await google.colab.kernel.invokeFunction('convertToInteractive',\n",
              "                                                     [key], {});\n",
              "          if (!dataTable) return;\n",
              "\n",
              "          const docLinkHtml = 'Like what you see? Visit the ' +\n",
              "            '<a target=\"_blank\" href=https://colab.research.google.com/notebooks/data_table.ipynb>data table notebook</a>'\n",
              "            + ' to learn more about interactive tables.';\n",
              "          element.innerHTML = '';\n",
              "          dataTable['output_type'] = 'display_data';\n",
              "          await google.colab.output.renderOutput(dataTable, element);\n",
              "          const docLink = document.createElement('div');\n",
              "          docLink.innerHTML = docLinkHtml;\n",
              "          element.appendChild(docLink);\n",
              "        }\n",
              "      </script>\n",
              "    </div>\n",
              "  </div>\n",
              "  "
            ]
          },
          "metadata": {},
          "execution_count": 35
        }
      ]
    },
    {
      "cell_type": "code",
      "source": [
        "#Placeholder za one tokene koji se ne nalaze u vokabularu/rječniku\n",
        "def get_placeholder_vector(d):\n",
        "  return np.ones(d)"
      ],
      "metadata": {
        "id": "eZ06O_FwL4st"
      },
      "execution_count": null,
      "outputs": []
    },
    {
      "cell_type": "code",
      "source": [
        "def spacy_parser(nlp, text):\n",
        "    # https://spacy.io/api/doc\n",
        "    doc = nlp(text)\n",
        "    tokens = []\n",
        "    vectors = []\n",
        "    # https://spacy.io/usage/linguistic-features#sbd\n",
        "    for token in doc:\n",
        "        # https://spacy.io/api/token\n",
        "        # https://spacy.io/usage/linguistic-features#lemmatization\n",
        "        # https://spacy.io/api/lemmatizer\n",
        "        # https://spacy.io/usage/linguistic-features#vectors-similarity\n",
        "\n",
        "        # print(token.text, token.has_vector, token.vector_norm, token.is_oov)\n",
        "        if token.has_vector:\n",
        "            vector = token.vector\n",
        "        else:\n",
        "            vector = get_placeholder_vector(300) # ((300,1) is the shape of the vector in Spacy)\n",
        "\n",
        "        tokens.append(token.text)\n",
        "        vectors.append(vector)\n",
        "    # print(\"tokens with no vectors:\", no_vector)\n",
        "    # if there is a very low count of vectors: https://spacy.io/usage/linguistic-features#adding-vectors \n",
        "    return tokens, vectors"
      ],
      "metadata": {
        "id": "aNAeJiLWKUe-"
      },
      "execution_count": null,
      "outputs": []
    },
    {
      "cell_type": "code",
      "source": [
        "#Ovo traje cca 2 minute na Colabu\n",
        "tokens = []\n",
        "embeddings = []\n",
        "for idx, row in food_order_df.iterrows():\n",
        "    t, v = spacy_parser(nlp, row[\"texts\"])\n",
        "    tokens.append(t) #Lista tokena\n",
        "    embeddings.append(v) #Lista embeddinga za svaki token"
      ],
      "metadata": {
        "id": "4D8Vuuo9nxY3"
      },
      "execution_count": null,
      "outputs": []
    },
    {
      "cell_type": "code",
      "source": [
        "#Broj redaka (treba bi biti isto kao i prije)\n",
        "len(embeddings)"
      ],
      "metadata": {
        "colab": {
          "base_uri": "https://localhost:8080/"
        },
        "id": "4HX9_qspNCWU",
        "outputId": "fe763e51-3352-4cd5-bf1b-587a95eb1fcc"
      },
      "execution_count": null,
      "outputs": [
        {
          "output_type": "execute_result",
          "data": {
            "text/plain": [
              "13953"
            ]
          },
          "metadata": {},
          "execution_count": 41
        }
      ]
    },
    {
      "cell_type": "code",
      "source": [
        "#Broj tokena (to su embeddinzi, ali lakše je za ovaj primjer o njima razmišljati kao o tokenima) za prvi data point. Za prvi data point treba biti 2 zato što imamo \"Hi.\", a to su dva tokena: \"Hi\" i \".\"\n",
        "len(embeddings[0])"
      ],
      "metadata": {
        "colab": {
          "base_uri": "https://localhost:8080/"
        },
        "id": "RjpJdRflNPM8",
        "outputId": "ecc49e22-9a6c-401f-e717-2c12b7a8f907"
      },
      "execution_count": null,
      "outputs": [
        {
          "output_type": "execute_result",
          "data": {
            "text/plain": [
              "2"
            ]
          },
          "metadata": {},
          "execution_count": 42
        }
      ]
    },
    {
      "cell_type": "code",
      "source": [
        "#Svaki od njih ima dimenziju 300 zato što koristimo \"en_core_web_lg\" model čiji embeddinzi su dimenzije 300. Model \"en_core_web_sm\" koristi 96-dimenzijske embeddinge\n",
        "np.array(embeddings[0]).shape"
      ],
      "metadata": {
        "colab": {
          "base_uri": "https://localhost:8080/"
        },
        "id": "WtDV5okfTdwR",
        "outputId": "a25f8920-9016-4f6c-c76c-3daf321034a2"
      },
      "execution_count": null,
      "outputs": [
        {
          "output_type": "execute_result",
          "data": {
            "text/plain": [
              "(2, 300)"
            ]
          },
          "metadata": {},
          "execution_count": 43
        }
      ]
    },
    {
      "cell_type": "code",
      "source": [
        "embedding_size=300"
      ],
      "metadata": {
        "id": "nhzLssVH16d8"
      },
      "execution_count": null,
      "outputs": []
    },
    {
      "cell_type": "code",
      "source": [
        "#Treba opet napraviti padding do max_seq_len. Traje cca 40 sekundi\n",
        "padded_embeddings = []\n",
        "for embedding in embeddings:\n",
        "  tmp_paddings = []\n",
        "  embedding_len = len(embedding)\n",
        "  if embedding_len < max_seq_len:\n",
        "    for _ in range(max_seq_len-embedding_len):\n",
        "      tmp_paddings.append([0]*embedding_size)\n",
        "    padded_embeddings.append(np.concatenate((embedding, tmp_paddings), axis=0))\n",
        "  else:\n",
        "    padded_embeddings.append(embedding)"
      ],
      "metadata": {
        "id": "YVyXGEIPSy1R"
      },
      "execution_count": null,
      "outputs": []
    },
    {
      "cell_type": "code",
      "source": [
        "padded_embeddings = np.array(padded_embeddings)"
      ],
      "metadata": {
        "id": "QKiCMjJXahwm"
      },
      "execution_count": null,
      "outputs": []
    },
    {
      "cell_type": "code",
      "source": [
        "#Broj primjera x broj vremenskih koraka x broj značajki u svakom vremenskom koraku\n",
        "padded_embeddings.shape"
      ],
      "metadata": {
        "colab": {
          "base_uri": "https://localhost:8080/"
        },
        "id": "EgHTeidOal6M",
        "outputId": "a3ed87d7-1868-4364-9e04-2cb09726952f"
      },
      "execution_count": null,
      "outputs": [
        {
          "output_type": "execute_result",
          "data": {
            "text/plain": [
              "(13953, 116, 300)"
            ]
          },
          "metadata": {},
          "execution_count": 47
        }
      ]
    },
    {
      "cell_type": "code",
      "source": [
        "#Provjera jesu li manji floatovi u embeddingu\n",
        "padded_embeddings[0][0][:10]"
      ],
      "metadata": {
        "colab": {
          "base_uri": "https://localhost:8080/"
        },
        "id": "NgQwvfGLOtBi",
        "outputId": "187bde3d-367d-4309-e357-8aeba3c1a691"
      },
      "execution_count": null,
      "outputs": [
        {
          "output_type": "execute_result",
          "data": {
            "text/plain": [
              "array([ 0.028796  ,  0.41306001, -0.46689999, -0.078175  ,  0.37057999,\n",
              "        0.12867001,  0.47714001, -0.92372   , -0.067789  ,  0.62380999])"
            ]
          },
          "metadata": {},
          "execution_count": 48
        }
      ]
    },
    {
      "cell_type": "code",
      "source": [
        "fo_texts_labels_padded = np.array(fo_texts_labels_padded)\n",
        "fo_texts_labels_padded.shape"
      ],
      "metadata": {
        "colab": {
          "base_uri": "https://localhost:8080/"
        },
        "id": "h6Eo1-BLOP4z",
        "outputId": "213367aa-1b9a-42cb-e140-d9897c9be183"
      },
      "execution_count": null,
      "outputs": [
        {
          "output_type": "execute_result",
          "data": {
            "text/plain": [
              "(13953, 116)"
            ]
          },
          "metadata": {},
          "execution_count": 49
        }
      ]
    },
    {
      "cell_type": "code",
      "source": [
        "#Treba biti isto 3d oblik/shape\n",
        "fo_texts_labels_padded = fo_texts_labels_padded.reshape(fo_texts_labels_padded.shape[0], fo_texts_labels_padded.shape[1], 1)"
      ],
      "metadata": {
        "id": "YtvU-1TgW_A4"
      },
      "execution_count": null,
      "outputs": []
    },
    {
      "cell_type": "code",
      "source": [
        "fo_texts_labels_padded.shape"
      ],
      "metadata": {
        "id": "n6xWYbz_VYU_"
      },
      "execution_count": null,
      "outputs": []
    },
    {
      "cell_type": "markdown",
      "source": [
        "\"padded_embeddings\" nam je ulaz u model (X), a fo_texts_labels_padded su oznake/labele (y)"
      ],
      "metadata": {
        "id": "deLg_Tbp9O9Y"
      }
    },
    {
      "cell_type": "code",
      "source": [
        "#Da si pojednostavimo\n",
        "X = padded_embeddings\n",
        "y = fo_texts_labels_padded"
      ],
      "metadata": {
        "id": "QRfG0uh_9pvi"
      },
      "execution_count": null,
      "outputs": []
    },
    {
      "cell_type": "code",
      "source": [
        "#Spremanje ulaza (X) i izlaza (y) kako ne bismo kasnije trebali ponovo pokretati sve linije iznad nego ćemo ih samo učitati (load) s diska (sljedeća čelija)\n",
        "np.save(\"drive/MyDrive/X_food.npy\", X)\n",
        "np.save(\"drive/MyDrive/y_food.npy\", y)"
      ],
      "metadata": {
        "id": "cqvfVySBax_v"
      },
      "execution_count": null,
      "outputs": []
    },
    {
      "cell_type": "code",
      "source": [
        "#Učitavanje prethodno spremljenih podataka\n",
        "X = np.load(\"drive/MyDrive/X_food.npy\")\n",
        "y = np.load(\"drive/MyDrive/y_food.npy\")"
      ],
      "metadata": {
        "id": "YecoWB0EdHP_"
      },
      "execution_count": null,
      "outputs": []
    },
    {
      "cell_type": "code",
      "source": [
        "X.shape, y.shape"
      ],
      "metadata": {
        "colab": {
          "base_uri": "https://localhost:8080/"
        },
        "id": "bEaMlGgoWcQ2",
        "outputId": "52fa5940-d06c-4b44-d868-150a02ebef44"
      },
      "execution_count": null,
      "outputs": [
        {
          "output_type": "execute_result",
          "data": {
            "text/plain": [
              "((13953, 116, 300), (13953, 116, 1))"
            ]
          },
          "metadata": {},
          "execution_count": 4
        }
      ]
    },
    {
      "cell_type": "code",
      "source": [
        "n_classes = len(np.unique(y))\n",
        "n_classes"
      ],
      "metadata": {
        "colab": {
          "base_uri": "https://localhost:8080/"
        },
        "id": "0cAmXgBWWdbV",
        "outputId": "47795401-8fba-40d3-f95a-81e806f4deb2"
      },
      "execution_count": null,
      "outputs": [
        {
          "output_type": "execute_result",
          "data": {
            "text/plain": [
              "3"
            ]
          },
          "metadata": {},
          "execution_count": 5
        }
      ]
    },
    {
      "cell_type": "code",
      "source": [
        "model = tf.keras.Sequential()\n",
        "#U input_shape ide dimenzija jednog primjera (instance/entiteta/opservacije/uzorka/retka/zapisa - različiti nazivi za jednaku stvar), a to je u našem slučaju (116, 300). Imamo 13 953 primjera koju su dimenzije (116, 300).\n",
        "model.add(tf.keras.layers.Bidirectional(tf.keras.layers.LSTM(64, input_shape=X[0].shape, return_sequences=True)))\n",
        "#TimeDistributed sloj (ili omotač eng. wrapper) omogućuje da se neki drugi sloj, u ovom slučaju Dense(3, ...), aplicira/primjeni na svaki vremenski korak. Mi ih imamo 116\n",
        "#Dense(3, ...)i softmax iz razloga što u y-u imamo 3 različite klase (0, 1 i 2)\n",
        "model.add(tf.keras.layers.TimeDistributed(tf.keras.layers.Dense(3)))\n",
        "opt = tf.keras.optimizers.Adam(learning_rate=.0003)\n",
        "#SparseCategoricalCrossentropy jer nam vrijednosti u y-u nisu one-hot encodane nego su integer/label encodane\n",
        "loss = tf.keras.losses.SparseCategoricalCrossentropy(from_logits=True)\n",
        "model.compile(loss=loss, optimizer=opt, metrics=[\"accuracy\"])"
      ],
      "metadata": {
        "id": "2R1QdITIScKr"
      },
      "execution_count": null,
      "outputs": []
    },
    {
      "cell_type": "code",
      "source": [
        "epochs = 1\n",
        "batch_size = 32"
      ],
      "metadata": {
        "id": "7cvbD1AaSyQq"
      },
      "execution_count": null,
      "outputs": []
    },
    {
      "cell_type": "code",
      "source": [
        "history = model.fit(X, y, epochs=epochs, batch_size=batch_size, validation_split=.3)"
      ],
      "metadata": {
        "colab": {
          "base_uri": "https://localhost:8080/"
        },
        "id": "GELmJnzkSygB",
        "outputId": "4ac81d89-06d3-4740-ff19-7ae41a028445"
      },
      "execution_count": null,
      "outputs": [
        {
          "output_type": "stream",
          "name": "stdout",
          "text": [
            "306/306 [==============================] - 71s 220ms/step - loss: 0.1500 - accuracy: 0.9814 - val_loss: 0.0213 - val_accuracy: 0.9934\n"
          ]
        }
      ]
    }
  ]
}